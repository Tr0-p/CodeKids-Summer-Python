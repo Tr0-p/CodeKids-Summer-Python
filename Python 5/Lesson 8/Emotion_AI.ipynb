{
  "nbformat": 4,
  "nbformat_minor": 0,
  "metadata": {
    "colab": {
      "provenance": []
    },
    "kernelspec": {
      "name": "python3",
      "display_name": "Python 3"
    },
    "language_info": {
      "name": "python"
    }
  },
  "cells": [
    {
      "cell_type": "code",
      "execution_count": null,
      "metadata": {
        "id": "sE0MOLpRwRTi"
      },
      "outputs": [],
      "source": [
        "import requests\n",
        "\n",
        "# This function will pass your text to the machine learning model\n",
        "# and return the top result with the highest confidence\n",
        "def classify(text):\n",
        "    key = \"1a2e1980-2e68-11ef-9c68-b3c8d22664ff242617ee-fbfe-4843-8610-11fb36cfa9d0\"\n",
        "    url = \"https://machinelearningforkids.co.uk/api/scratch/\"+ key + \"/classify\"\n",
        "\n",
        "    response = requests.get(url, params={ \"data\" : text })\n",
        "\n",
        "    if response.ok:\n",
        "        responseData = response.json()\n",
        "        topMatch = responseData[0]\n",
        "        return topMatch\n",
        "    else:\n",
        "        response.raise_for_status()"
      ]
    },
    {
      "cell_type": "code",
      "source": [
        "user = input(\"What is on your mind?\")\n",
        "result = classify(user)\n",
        "label = result[\"class_name\"]\n",
        "print(f\"Your text is classified as {label}\")"
      ],
      "metadata": {
        "id": "HPskhAP4xFxb"
      },
      "execution_count": null,
      "outputs": []
    }
  ]
}