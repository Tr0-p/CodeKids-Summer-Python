{
  "nbformat": 4,
  "nbformat_minor": 0,
  "metadata": {
    "colab": {
      "provenance": []
    },
    "kernelspec": {
      "name": "python3",
      "display_name": "Python 3"
    },
    "language_info": {
      "name": "python"
    }
  },
  "cells": [
    {
      "cell_type": "markdown",
      "source": [
        "**INTRODUCTION ** -\n",
        "--------------\n",
        "\n",
        "[DAY 72 lesson]\n",
        "\n",
        "**Overview of this lesson and the rest of this course.**\n",
        "\n",
        "What is data science?\n",
        "\n",
        "Using data to understand and advise?\n",
        "\n",
        "I'm sure all of you are looking at careers - so let's take a look at some university degrees and then understand what the career prospects and salaries are:\n",
        "\n",
        "-\n",
        "-\n",
        "**Key concepts**\n",
        "\n",
        "A Notebook - what is it and why do we use it?\n",
        "\n",
        "MEDIAN - what doe sthis mean?\n",
        "MEAN?\n",
        "\n",
        "A Data Frame? - some of you from Nav's Python 4 class from last term will know this!\n",
        "\n",
        "Pandas - what is this?\n",
        "\n"
      ],
      "metadata": {
        "id": "-imIbCQb4CpP"
      }
    },
    {
      "cell_type": "markdown",
      "source": [
        "   \n",
        "    \n",
        "\n",
        "--------------------\n",
        "--------------------\n",
        "**PROJECT OVERVIEW**\n",
        "No need to write this - only an explanation for the teacher.\n",
        "\n",
        "This data is very USA focused but there will be a lot of commonality with Europe too!\n",
        "\n",
        "University degrees are very expensive. But, do they pay you back? Choosing Philosophy or International Relations as a major may have worried your parents, but does the data back up their fears? PayScale Inc. did a year-long survey of 1.2 million Americans with only a bachelor's degree. We'll be digging into this data and use Pandas to answer these questions:\n",
        "\n",
        "\n",
        "\n",
        "Which degrees have the highest starting salaries?\n",
        "\n",
        "Which majors have the lowest earnings after college?\n",
        "\n",
        "Which degrees have the highest earning potential?\n",
        "\n",
        "What are the lowest risk college majors from an earnings standpoint?\n",
        "\n",
        "Do business, STEM (Science, Technology, Engineering, Mathematics) or HASS (Humanities, Arts, Social Science) degrees earn more on average?"
      ],
      "metadata": {
        "id": "7te6JBn25dqZ"
      }
    },
    {
      "cell_type": "markdown",
      "source": [
        "--------------------------\n",
        "--------------------------\n",
        "\n",
        "Download the salaries_by_college_major.csv file from the course resources and add this file to the notebook by dropping it into the sidebar with the little folder icon.\n",
        "\n",
        "You can also select the file and copy its path and paste into here"
      ],
      "metadata": {
        "id": "8BcdDVkhwZkM"
      }
    },
    {
      "cell_type": "code",
      "execution_count": 2,
      "metadata": {
        "id": "IyWRAwCJwCmX"
      },
      "outputs": [],
      "source": [
        "import pandas as pd\n",
        "df = pd.read_csv('/content/salaries_by_college_major.csv')\n"
      ]
    },
    {
      "cell_type": "markdown",
      "source": [
        "Now take a look at the Pandas dataframe we've just created with .head(). This will show us the first 5 rows of our dataframe."
      ],
      "metadata": {
        "id": "naT1ZGlZxGvk"
      }
    },
    {
      "cell_type": "code",
      "source": [
        "df.head()"
      ],
      "metadata": {
        "id": "pwAoP2UBxB6Q"
      },
      "execution_count": null,
      "outputs": []
    },
    {
      "cell_type": "markdown",
      "source": [
        "**Preliminary Data Exploration and Data Cleaning with Pandas**\n",
        "Now that we've got our data loaded into our dataframe, we need to take a closer look at it to help us understand what it is we are working with. This is always the first step with any data science project. Let's see if we can answer the following questions:\n",
        "\n",
        "\n",
        "\n",
        "How many rows does our dataframe have?\n",
        "\n",
        "How many columns does it have?\n",
        "\n",
        "What are the labels for the columns? Do the columns have names?\n",
        "\n",
        "Are there any missing values in our dataframe? Does our dataframe contain any bad data?\n",
        "\n",
        "We've already used the .head() method to peek at the top 5 rows of our dataframe. To see the number of rows and columns we can use the shape attribute:"
      ],
      "metadata": {
        "id": "3-bdw-mZwYzK"
      }
    },
    {
      "cell_type": "code",
      "source": [
        "# Show us the structure of the data whiuch has 51 rows and 6 columns\n",
        "df.shape"
      ],
      "metadata": {
        "id": "ej0YVWXYxglS"
      },
      "execution_count": null,
      "outputs": []
    },
    {
      "cell_type": "code",
      "source": [
        "# We saw that each column had a name.\n",
        "# We can access the column names directly with the columns attribute.\n",
        "df.columns"
      ],
      "metadata": {
        "id": "tOY3zE5qxzDi"
      },
      "execution_count": null,
      "outputs": []
    },
    {
      "cell_type": "markdown",
      "source": [
        "\n",
        "**Missing Values and Junk Data**\n",
        "\n",
        "Before we can proceed with our analysis we should try and figure out if there are any missing or junk data in our dataframe. That way we can avoid problems later on. In this case, we're going to look for NaN (Not A Number) values in our dataframe. NAN values are blank cells or cells that contain strings instead of numbers. Use the .isna() method and see if you can spot if *there*'s a problem somewhere."
      ],
      "metadata": {
        "id": "8fusJichyGvo"
      }
    },
    {
      "cell_type": "code",
      "source": [
        "df.isna()"
      ],
      "metadata": {
        "id": "b5sPJY8lyA_H"
      },
      "execution_count": null,
      "outputs": []
    },
    {
      "cell_type": "code",
      "source": [
        "# Did you find anything? Check the last couple of rows in the dataframe\n",
        "df.tail()\n",
        "\n",
        "# Aha! We have a row that contains some information regarding the\n",
        "# source of the data with blank values for all the other other columns."
      ],
      "metadata": {
        "colab": {
          "base_uri": "https://localhost:8080/",
          "height": 255
        },
        "id": "DMZmGVQTycL7",
        "outputId": "389132fd-9f2e-46b9-a463-4c3c87a85b39"
      },
      "execution_count": 9,
      "outputs": [
        {
          "output_type": "execute_result",
          "data": {
            "text/plain": [
              "      Undergraduate Major  Starting Median Salary  Mid-Career Median Salary  \\\n",
              "46             Psychology                 35900.0                   60400.0   \n",
              "47               Religion                 34100.0                   52000.0   \n",
              "48              Sociology                 36500.0                   58200.0   \n",
              "49                Spanish                 34000.0                   53100.0   \n",
              "50  Source: PayScale Inc.                     NaN                       NaN   \n",
              "\n",
              "    Mid-Career 10th Percentile Salary  Mid-Career 90th Percentile Salary Group  \n",
              "46                            31600.0                           127000.0  HASS  \n",
              "47                            29700.0                            96400.0  HASS  \n",
              "48                            30700.0                           118000.0  HASS  \n",
              "49                            31000.0                            96400.0  HASS  \n",
              "50                                NaN                                NaN   NaN  "
            ],
            "text/html": [
              "\n",
              "  <div id=\"df-0f14ae5c-0f03-4674-9756-99a64f6de072\" class=\"colab-df-container\">\n",
              "    <div>\n",
              "<style scoped>\n",
              "    .dataframe tbody tr th:only-of-type {\n",
              "        vertical-align: middle;\n",
              "    }\n",
              "\n",
              "    .dataframe tbody tr th {\n",
              "        vertical-align: top;\n",
              "    }\n",
              "\n",
              "    .dataframe thead th {\n",
              "        text-align: right;\n",
              "    }\n",
              "</style>\n",
              "<table border=\"1\" class=\"dataframe\">\n",
              "  <thead>\n",
              "    <tr style=\"text-align: right;\">\n",
              "      <th></th>\n",
              "      <th>Undergraduate Major</th>\n",
              "      <th>Starting Median Salary</th>\n",
              "      <th>Mid-Career Median Salary</th>\n",
              "      <th>Mid-Career 10th Percentile Salary</th>\n",
              "      <th>Mid-Career 90th Percentile Salary</th>\n",
              "      <th>Group</th>\n",
              "    </tr>\n",
              "  </thead>\n",
              "  <tbody>\n",
              "    <tr>\n",
              "      <th>46</th>\n",
              "      <td>Psychology</td>\n",
              "      <td>35900.0</td>\n",
              "      <td>60400.0</td>\n",
              "      <td>31600.0</td>\n",
              "      <td>127000.0</td>\n",
              "      <td>HASS</td>\n",
              "    </tr>\n",
              "    <tr>\n",
              "      <th>47</th>\n",
              "      <td>Religion</td>\n",
              "      <td>34100.0</td>\n",
              "      <td>52000.0</td>\n",
              "      <td>29700.0</td>\n",
              "      <td>96400.0</td>\n",
              "      <td>HASS</td>\n",
              "    </tr>\n",
              "    <tr>\n",
              "      <th>48</th>\n",
              "      <td>Sociology</td>\n",
              "      <td>36500.0</td>\n",
              "      <td>58200.0</td>\n",
              "      <td>30700.0</td>\n",
              "      <td>118000.0</td>\n",
              "      <td>HASS</td>\n",
              "    </tr>\n",
              "    <tr>\n",
              "      <th>49</th>\n",
              "      <td>Spanish</td>\n",
              "      <td>34000.0</td>\n",
              "      <td>53100.0</td>\n",
              "      <td>31000.0</td>\n",
              "      <td>96400.0</td>\n",
              "      <td>HASS</td>\n",
              "    </tr>\n",
              "    <tr>\n",
              "      <th>50</th>\n",
              "      <td>Source: PayScale Inc.</td>\n",
              "      <td>NaN</td>\n",
              "      <td>NaN</td>\n",
              "      <td>NaN</td>\n",
              "      <td>NaN</td>\n",
              "      <td>NaN</td>\n",
              "    </tr>\n",
              "  </tbody>\n",
              "</table>\n",
              "</div>\n",
              "    <div class=\"colab-df-buttons\">\n",
              "\n",
              "  <div class=\"colab-df-container\">\n",
              "    <button class=\"colab-df-convert\" onclick=\"convertToInteractive('df-0f14ae5c-0f03-4674-9756-99a64f6de072')\"\n",
              "            title=\"Convert this dataframe to an interactive table.\"\n",
              "            style=\"display:none;\">\n",
              "\n",
              "  <svg xmlns=\"http://www.w3.org/2000/svg\" height=\"24px\" viewBox=\"0 -960 960 960\">\n",
              "    <path d=\"M120-120v-720h720v720H120Zm60-500h600v-160H180v160Zm220 220h160v-160H400v160Zm0 220h160v-160H400v160ZM180-400h160v-160H180v160Zm440 0h160v-160H620v160ZM180-180h160v-160H180v160Zm440 0h160v-160H620v160Z\"/>\n",
              "  </svg>\n",
              "    </button>\n",
              "\n",
              "  <style>\n",
              "    .colab-df-container {\n",
              "      display:flex;\n",
              "      gap: 12px;\n",
              "    }\n",
              "\n",
              "    .colab-df-convert {\n",
              "      background-color: #E8F0FE;\n",
              "      border: none;\n",
              "      border-radius: 50%;\n",
              "      cursor: pointer;\n",
              "      display: none;\n",
              "      fill: #1967D2;\n",
              "      height: 32px;\n",
              "      padding: 0 0 0 0;\n",
              "      width: 32px;\n",
              "    }\n",
              "\n",
              "    .colab-df-convert:hover {\n",
              "      background-color: #E2EBFA;\n",
              "      box-shadow: 0px 1px 2px rgba(60, 64, 67, 0.3), 0px 1px 3px 1px rgba(60, 64, 67, 0.15);\n",
              "      fill: #174EA6;\n",
              "    }\n",
              "\n",
              "    .colab-df-buttons div {\n",
              "      margin-bottom: 4px;\n",
              "    }\n",
              "\n",
              "    [theme=dark] .colab-df-convert {\n",
              "      background-color: #3B4455;\n",
              "      fill: #D2E3FC;\n",
              "    }\n",
              "\n",
              "    [theme=dark] .colab-df-convert:hover {\n",
              "      background-color: #434B5C;\n",
              "      box-shadow: 0px 1px 3px 1px rgba(0, 0, 0, 0.15);\n",
              "      filter: drop-shadow(0px 1px 2px rgba(0, 0, 0, 0.3));\n",
              "      fill: #FFFFFF;\n",
              "    }\n",
              "  </style>\n",
              "\n",
              "    <script>\n",
              "      const buttonEl =\n",
              "        document.querySelector('#df-0f14ae5c-0f03-4674-9756-99a64f6de072 button.colab-df-convert');\n",
              "      buttonEl.style.display =\n",
              "        google.colab.kernel.accessAllowed ? 'block' : 'none';\n",
              "\n",
              "      async function convertToInteractive(key) {\n",
              "        const element = document.querySelector('#df-0f14ae5c-0f03-4674-9756-99a64f6de072');\n",
              "        const dataTable =\n",
              "          await google.colab.kernel.invokeFunction('convertToInteractive',\n",
              "                                                    [key], {});\n",
              "        if (!dataTable) return;\n",
              "\n",
              "        const docLinkHtml = 'Like what you see? Visit the ' +\n",
              "          '<a target=\"_blank\" href=https://colab.research.google.com/notebooks/data_table.ipynb>data table notebook</a>'\n",
              "          + ' to learn more about interactive tables.';\n",
              "        element.innerHTML = '';\n",
              "        dataTable['output_type'] = 'display_data';\n",
              "        await google.colab.output.renderOutput(dataTable, element);\n",
              "        const docLink = document.createElement('div');\n",
              "        docLink.innerHTML = docLinkHtml;\n",
              "        element.appendChild(docLink);\n",
              "      }\n",
              "    </script>\n",
              "  </div>\n",
              "\n",
              "\n",
              "<div id=\"df-06e55ec7-6de0-4fcc-b5bd-2ce8aac5a8e7\">\n",
              "  <button class=\"colab-df-quickchart\" onclick=\"quickchart('df-06e55ec7-6de0-4fcc-b5bd-2ce8aac5a8e7')\"\n",
              "            title=\"Suggest charts\"\n",
              "            style=\"display:none;\">\n",
              "\n",
              "<svg xmlns=\"http://www.w3.org/2000/svg\" height=\"24px\"viewBox=\"0 0 24 24\"\n",
              "     width=\"24px\">\n",
              "    <g>\n",
              "        <path d=\"M19 3H5c-1.1 0-2 .9-2 2v14c0 1.1.9 2 2 2h14c1.1 0 2-.9 2-2V5c0-1.1-.9-2-2-2zM9 17H7v-7h2v7zm4 0h-2V7h2v10zm4 0h-2v-4h2v4z\"/>\n",
              "    </g>\n",
              "</svg>\n",
              "  </button>\n",
              "\n",
              "<style>\n",
              "  .colab-df-quickchart {\n",
              "      --bg-color: #E8F0FE;\n",
              "      --fill-color: #1967D2;\n",
              "      --hover-bg-color: #E2EBFA;\n",
              "      --hover-fill-color: #174EA6;\n",
              "      --disabled-fill-color: #AAA;\n",
              "      --disabled-bg-color: #DDD;\n",
              "  }\n",
              "\n",
              "  [theme=dark] .colab-df-quickchart {\n",
              "      --bg-color: #3B4455;\n",
              "      --fill-color: #D2E3FC;\n",
              "      --hover-bg-color: #434B5C;\n",
              "      --hover-fill-color: #FFFFFF;\n",
              "      --disabled-bg-color: #3B4455;\n",
              "      --disabled-fill-color: #666;\n",
              "  }\n",
              "\n",
              "  .colab-df-quickchart {\n",
              "    background-color: var(--bg-color);\n",
              "    border: none;\n",
              "    border-radius: 50%;\n",
              "    cursor: pointer;\n",
              "    display: none;\n",
              "    fill: var(--fill-color);\n",
              "    height: 32px;\n",
              "    padding: 0;\n",
              "    width: 32px;\n",
              "  }\n",
              "\n",
              "  .colab-df-quickchart:hover {\n",
              "    background-color: var(--hover-bg-color);\n",
              "    box-shadow: 0 1px 2px rgba(60, 64, 67, 0.3), 0 1px 3px 1px rgba(60, 64, 67, 0.15);\n",
              "    fill: var(--button-hover-fill-color);\n",
              "  }\n",
              "\n",
              "  .colab-df-quickchart-complete:disabled,\n",
              "  .colab-df-quickchart-complete:disabled:hover {\n",
              "    background-color: var(--disabled-bg-color);\n",
              "    fill: var(--disabled-fill-color);\n",
              "    box-shadow: none;\n",
              "  }\n",
              "\n",
              "  .colab-df-spinner {\n",
              "    border: 2px solid var(--fill-color);\n",
              "    border-color: transparent;\n",
              "    border-bottom-color: var(--fill-color);\n",
              "    animation:\n",
              "      spin 1s steps(1) infinite;\n",
              "  }\n",
              "\n",
              "  @keyframes spin {\n",
              "    0% {\n",
              "      border-color: transparent;\n",
              "      border-bottom-color: var(--fill-color);\n",
              "      border-left-color: var(--fill-color);\n",
              "    }\n",
              "    20% {\n",
              "      border-color: transparent;\n",
              "      border-left-color: var(--fill-color);\n",
              "      border-top-color: var(--fill-color);\n",
              "    }\n",
              "    30% {\n",
              "      border-color: transparent;\n",
              "      border-left-color: var(--fill-color);\n",
              "      border-top-color: var(--fill-color);\n",
              "      border-right-color: var(--fill-color);\n",
              "    }\n",
              "    40% {\n",
              "      border-color: transparent;\n",
              "      border-right-color: var(--fill-color);\n",
              "      border-top-color: var(--fill-color);\n",
              "    }\n",
              "    60% {\n",
              "      border-color: transparent;\n",
              "      border-right-color: var(--fill-color);\n",
              "    }\n",
              "    80% {\n",
              "      border-color: transparent;\n",
              "      border-right-color: var(--fill-color);\n",
              "      border-bottom-color: var(--fill-color);\n",
              "    }\n",
              "    90% {\n",
              "      border-color: transparent;\n",
              "      border-bottom-color: var(--fill-color);\n",
              "    }\n",
              "  }\n",
              "</style>\n",
              "\n",
              "  <script>\n",
              "    async function quickchart(key) {\n",
              "      const quickchartButtonEl =\n",
              "        document.querySelector('#' + key + ' button');\n",
              "      quickchartButtonEl.disabled = true;  // To prevent multiple clicks.\n",
              "      quickchartButtonEl.classList.add('colab-df-spinner');\n",
              "      try {\n",
              "        const charts = await google.colab.kernel.invokeFunction(\n",
              "            'suggestCharts', [key], {});\n",
              "      } catch (error) {\n",
              "        console.error('Error during call to suggestCharts:', error);\n",
              "      }\n",
              "      quickchartButtonEl.classList.remove('colab-df-spinner');\n",
              "      quickchartButtonEl.classList.add('colab-df-quickchart-complete');\n",
              "    }\n",
              "    (() => {\n",
              "      let quickchartButtonEl =\n",
              "        document.querySelector('#df-06e55ec7-6de0-4fcc-b5bd-2ce8aac5a8e7 button');\n",
              "      quickchartButtonEl.style.display =\n",
              "        google.colab.kernel.accessAllowed ? 'block' : 'none';\n",
              "    })();\n",
              "  </script>\n",
              "</div>\n",
              "    </div>\n",
              "  </div>\n"
            ],
            "application/vnd.google.colaboratory.intrinsic+json": {
              "type": "dataframe",
              "summary": "{\n  \"name\": \"df\",\n  \"rows\": 5,\n  \"fields\": [\n    {\n      \"column\": \"Undergraduate Major\",\n      \"properties\": {\n        \"dtype\": \"string\",\n        \"num_unique_values\": 5,\n        \"samples\": [\n          \"Religion\",\n          \"Source: PayScale Inc.\",\n          \"Sociology\"\n        ],\n        \"semantic_type\": \"\",\n        \"description\": \"\"\n      }\n    },\n    {\n      \"column\": \"Starting Median Salary\",\n      \"properties\": {\n        \"dtype\": \"number\",\n        \"std\": 1265.8988901172163,\n        \"min\": 34000.0,\n        \"max\": 36500.0,\n        \"num_unique_values\": 4,\n        \"samples\": [\n          34100.0,\n          34000.0,\n          35900.0\n        ],\n        \"semantic_type\": \"\",\n        \"description\": \"\"\n      }\n    },\n    {\n      \"column\": \"Mid-Career Median Salary\",\n      \"properties\": {\n        \"dtype\": \"number\",\n        \"std\": 4024.4047178847873,\n        \"min\": 52000.0,\n        \"max\": 60400.0,\n        \"num_unique_values\": 4,\n        \"samples\": [\n          52000.0,\n          53100.0,\n          60400.0\n        ],\n        \"semantic_type\": \"\",\n        \"description\": \"\"\n      }\n    },\n    {\n      \"column\": \"Mid-Career 10th Percentile Salary\",\n      \"properties\": {\n        \"dtype\": \"number\",\n        \"std\": 793.7253933193772,\n        \"min\": 29700.0,\n        \"max\": 31600.0,\n        \"num_unique_values\": 4,\n        \"samples\": [\n          29700.0,\n          31000.0,\n          31600.0\n        ],\n        \"semantic_type\": \"\",\n        \"description\": \"\"\n      }\n    },\n    {\n      \"column\": \"Mid-Career 90th Percentile Salary\",\n      \"properties\": {\n        \"dtype\": \"number\",\n        \"std\": 15510.319145652677,\n        \"min\": 96400.0,\n        \"max\": 127000.0,\n        \"num_unique_values\": 3,\n        \"samples\": [\n          127000.0,\n          96400.0,\n          118000.0\n        ],\n        \"semantic_type\": \"\",\n        \"description\": \"\"\n      }\n    },\n    {\n      \"column\": \"Group\",\n      \"properties\": {\n        \"dtype\": \"category\",\n        \"num_unique_values\": 1,\n        \"samples\": [\n          \"HASS\"\n        ],\n        \"semantic_type\": \"\",\n        \"description\": \"\"\n      }\n    }\n  ]\n}"
            }
          },
          "metadata": {},
          "execution_count": 9
        }
      ]
    },
    {
      "cell_type": "markdown",
      "source": [
        "\n",
        "**Delete the Last Row**\n",
        "We don't want this row in our dataframe. There's two ways you can go about removing this row. The first way is to manually remove the row at index 50.\n",
        "\n",
        "The second way is to simply use the .dropna() method from pandas. Let's create a new dataframe without the last row and examine the last 5 rows to make sure we removed the last row:"
      ],
      "metadata": {
        "id": "wBzmAys6yxXk"
      }
    },
    {
      "cell_type": "code",
      "source": [
        "# Delete the not a number rows\n",
        "clean_df = df.dropna()\n",
        "\n",
        "# Let's see if that's worked!\n",
        "clean_df.tail()"
      ],
      "metadata": {
        "id": "Rg8II2pWy6Kk"
      },
      "execution_count": null,
      "outputs": []
    },
    {
      "cell_type": "markdown",
      "source": [
        "**Accessing Columns and Individual Cells in a Dataframe**\n",
        "\n",
        "*Find College Degrees with Highest Starting Salaries*\n",
        "\n",
        "To access a particular column from a data frame we can use the square bracket notation, like so:\n",
        "\n",
        "clean_df['Starting Median Salary']\n",
        "You should see all the values printed out below the cell for just this column:"
      ],
      "metadata": {
        "id": "LKXBTDUWzLob"
      }
    },
    {
      "cell_type": "code",
      "source": [
        "clean_df['Starting Median Salary']\n",
        "\n",
        "# TASK\n",
        "# Can you try accessing other columns of the data frame? - GO AHEAD!"
      ],
      "metadata": {
        "id": "rySRCd6BzUwN"
      },
      "execution_count": null,
      "outputs": []
    },
    {
      "cell_type": "code",
      "source": [
        "# To find the highest starting salary we can simply chain the .max() method.\n",
        "\n",
        "clean_df['Starting Median Salary'].max()"
      ],
      "metadata": {
        "colab": {
          "base_uri": "https://localhost:8080/"
        },
        "id": "IolzdDhWzm9i",
        "outputId": "d64119b3-b2b2-438d-e4bf-598479995da0"
      },
      "execution_count": 14,
      "outputs": [
        {
          "output_type": "execute_result",
          "data": {
            "text/plain": [
              "74300.0"
            ]
          },
          "metadata": {},
          "execution_count": 14
        }
      ]
    },
    {
      "cell_type": "markdown",
      "source": [
        "The highest starting salary is $74,300. But which college major earns this much on average? For this, we need to know the row number or index so that we can look up the name of the major. Lucky for us, the .idxmax() method will give us index for the row with the largest value."
      ],
      "metadata": {
        "id": "gpcthVKoz0KC"
      }
    },
    {
      "cell_type": "code",
      "source": [
        "# This will return the row index\n",
        "\n",
        "clean_df['Starting Median Salary'].idxmax()\n",
        "\n",
        "# It should return row index 43"
      ],
      "metadata": {
        "colab": {
          "base_uri": "https://localhost:8080/"
        },
        "id": "JVfs4ziqz2ia",
        "outputId": "76bc7116-07c9-40d0-b692-883c03d0a4e8"
      },
      "execution_count": 15,
      "outputs": [
        {
          "output_type": "execute_result",
          "data": {
            "text/plain": [
              "43"
            ]
          },
          "metadata": {},
          "execution_count": 15
        }
      ]
    },
    {
      "cell_type": "markdown",
      "source": [
        "To see the name of the major that corresponds to that particular row, we can use the .loc (location) property."
      ],
      "metadata": {
        "id": "jaeDeuvD0DpT"
      }
    },
    {
      "cell_type": "code",
      "source": [
        "clean_df['Undergraduate Major'].loc[43]\n",
        "\n",
        "# Are your surprised with the result? :)\n",
        "\n",
        "\n",
        "# TASK\n",
        "# See if you can find any other interesting columns for row 43?"
      ],
      "metadata": {
        "colab": {
          "base_uri": "https://localhost:8080/",
          "height": 35
        },
        "id": "3pBeEft20IhU",
        "outputId": "f04be740-6c46-4b32-88a5-e11c760db35e"
      },
      "execution_count": 17,
      "outputs": [
        {
          "output_type": "execute_result",
          "data": {
            "text/plain": [
              "'Physician Assistant'"
            ],
            "application/vnd.google.colaboratory.intrinsic+json": {
              "type": "string"
            }
          },
          "metadata": {},
          "execution_count": 17
        }
      ]
    },
    {
      "cell_type": "markdown",
      "source": [
        "If you don't specify a particular column you can use the .loc property to retrieve an entire row:"
      ],
      "metadata": {
        "id": "SHbzwEYn0pWZ"
      }
    },
    {
      "cell_type": "code",
      "source": [
        "clean_df.loc[43]"
      ],
      "metadata": {
        "colab": {
          "base_uri": "https://localhost:8080/"
        },
        "id": "eq9gOthY0qhU",
        "outputId": "cf684c5c-b175-4206-ede9-b90f62584185"
      },
      "execution_count": 18,
      "outputs": [
        {
          "output_type": "execute_result",
          "data": {
            "text/plain": [
              "Undergraduate Major                  Physician Assistant\n",
              "Starting Median Salary                           74300.0\n",
              "Mid-Career Median Salary                         91700.0\n",
              "Mid-Career 10th Percentile Salary                66400.0\n",
              "Mid-Career 90th Percentile Salary               124000.0\n",
              "Group                                               STEM\n",
              "Name: 43, dtype: object"
            ]
          },
          "metadata": {},
          "execution_count": 18
        }
      ]
    },
    {
      "cell_type": "markdown",
      "source": [
        "**CHALLENGE**\n",
        "Potential homework assignments\n",
        "\n",
        "* Now that we've found the major with the highest starting salary, can you write the code to find the following:\n",
        "\n",
        "* What college major has the highest mid-career salary? How much do graduates with this major earn? (Mid-career is defined as having 10+ years of experience).\n",
        "\n",
        "* Which college major has the lowest starting salary and how much do graduates earn after university?\n",
        "\n",
        "* Which college major has the lowest mid-career salary and how much can people expect to earn with this degree?\n",
        "\n",
        "\n"
      ],
      "metadata": {
        "id": "XdUaQYmX0ywn"
      }
    },
    {
      "cell_type": "code",
      "source": [
        "## SOLUTIONS\n",
        "\n",
        "# The Highest Mid-Career Salary\n",
        "\n",
        "print(clean_df['Mid-Career Median Salary'].max())\n",
        "print(f\"Index for the max mid career salary: {clean_df['Mid-Career Median Salary'].idxmax()}\")\n",
        "clean_df['Undergraduate Major'][8]"
      ],
      "metadata": {
        "colab": {
          "base_uri": "https://localhost:8080/",
          "height": 69
        },
        "id": "wIU97O5l2qgF",
        "outputId": "5c059262-c79b-4956-bf42-70070a2ea0ea"
      },
      "execution_count": 19,
      "outputs": [
        {
          "output_type": "stream",
          "name": "stdout",
          "text": [
            "107000.0\n",
            "Index for the max mid career salary: 8\n"
          ]
        },
        {
          "output_type": "execute_result",
          "data": {
            "text/plain": [
              "'Chemical Engineering'"
            ],
            "application/vnd.google.colaboratory.intrinsic+json": {
              "type": "string"
            }
          },
          "metadata": {},
          "execution_count": 19
        }
      ]
    },
    {
      "cell_type": "code",
      "source": [
        "## SOLUTIONS\n",
        "\n",
        "# The Lowest STARTING Career Salary\n",
        "\n",
        "print(clean_df['Starting Median Salary'].min())\n",
        "clean_df['Undergraduate Major'].loc[clean_df['Starting Median Salary'].idxmin()]"
      ],
      "metadata": {
        "colab": {
          "base_uri": "https://localhost:8080/",
          "height": 52
        },
        "id": "ER47Pd4t23TX",
        "outputId": "4cea72f7-78e0-4881-fe57-25f4ae0f6754"
      },
      "execution_count": 20,
      "outputs": [
        {
          "output_type": "stream",
          "name": "stdout",
          "text": [
            "34000.0\n"
          ]
        },
        {
          "output_type": "execute_result",
          "data": {
            "text/plain": [
              "'Spanish'"
            ],
            "application/vnd.google.colaboratory.intrinsic+json": {
              "type": "string"
            }
          },
          "metadata": {},
          "execution_count": 20
        }
      ]
    },
    {
      "cell_type": "code",
      "source": [
        "## SOLUTIONS\n",
        "\n",
        "# Unfortunately education is the defree with lowest mid-career salary :((\n",
        "# What do you think about this?\n",
        "# Is money everything?\n",
        "# If you were advising Rishi Sunak what would you tell him?\n",
        "\n",
        "clean_df.loc[clean_df['Mid-Career Median Salary'].idxmin()]"
      ],
      "metadata": {
        "colab": {
          "base_uri": "https://localhost:8080/"
        },
        "id": "xsC1XIMf3N6W",
        "outputId": "1db9858b-fe63-41da-db8e-74693d9201fb"
      },
      "execution_count": 21,
      "outputs": [
        {
          "output_type": "execute_result",
          "data": {
            "text/plain": [
              "Undergraduate Major                  Education\n",
              "Starting Median Salary                 34900.0\n",
              "Mid-Career Median Salary               52000.0\n",
              "Mid-Career 10th Percentile Salary      29300.0\n",
              "Mid-Career 90th Percentile Salary     102000.0\n",
              "Group                                     HASS\n",
              "Name: 18, dtype: object"
            ]
          },
          "metadata": {},
          "execution_count": 21
        }
      ]
    }
  ]
}