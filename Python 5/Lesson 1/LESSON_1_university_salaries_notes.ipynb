{
  "cells": [
    {
      "cell_type": "markdown",
      "metadata": {},
      "source": [
        "# PYTHON 5 - LESSON 1\n",
        "## Data Science Stream - Data Exploration\n",
        "\n",
        "Date: 24 April 2024\n",
        "\n",
        "### Summary\n",
        "Today, we explored how to apply our programming skills to analyzse and understand data from various sources. Specifically, we discussed:\n",
        "\n",
        "* What is Data Science?\n",
        "* What is a Jupyter Notebook? Why is it useful?\n",
        "* What is a DataFrame?\n",
        "* Statistical Measures: Mean vs. Median\n",
        "\n",
        "We began by analysing a dataset about university degrees to understand the career prospects and salaries associated with different fields of study. The data, collected by PayScale Inc., comprises a year-long survey of 1.2 million Americans who hold only a bachelor's degree. Through this analysis, we learned how about:\n",
        "\n",
        "1. Importing a DataFrame from a .csv file\n",
        "2. Preliminary Data Exploration: We used following methods and attributes from the pandas library:\n",
        "    - .read_csv()\n",
        "    - .head()\n",
        "    - .tail()\n",
        "    - .shape\n",
        "    - .columns\n",
        "3. Data Cleaning:\n",
        "    - .isna()\n",
        "    - .dropna()\n",
        "4. Filtering and Manipulating DataFrames: to answer questions about the data, e.g. which subject has the higest income?\n",
        "    - .max()\n",
        "    - .min()\n",
        "    - .idxmax()\n",
        "    - .loc[idx]\n",
        "5. Home Exercise (optional)"
      ]
    },
    {
      "cell_type": "markdown",
      "metadata": {},
      "source": [
        "#### Key concepts\n",
        "\n",
        "**What is Data Science?**\n",
        "\n",
        "Data science lets you uncover hidden insights from data to make decisions and predictions. It combines mathematics, statistics, and computer science to analyse information (often contained in tables), helping us understand complex patterns and trends. Here’s how it can be used in real-world scenarios:\n",
        "\n",
        "- **Healthcare**: Doctors use data science to help diagnose diseases early by looking at patterns in patient data over time.\n",
        "- **Video Games**: Data science helps improve games by analysing how players interact with the game. This information can make games more fun and challenging.\n",
        "- **Social Media**: Platforms like Instagram and TikTok use data science to suggest friends, videos, or photos you might like based on what you usually watch or like.\n",
        "- **Music and Movies**: Services like Spotify and Netflix recommend music and movies based on what you’ve enjoyed in the past or what’s popular among people with similar tastes.\n",
        "- **Shopping**: Online stores use data science to suggest products you might like to buy, based on your previous shopping history or what others have bought.\n",
        "\n",
        "**What is a Jupyter Notebook? Why is it useful?**\n",
        "\n",
        "We are using `Google Colab`, an online Python platform. It uses `Jupyter Notebooks`, a tool within the Python environment that allows you to split your code into chunks of code (cells). You can run these cells individually, and see the output right below the cell. This makes it easy to test and organise your code. You can also add text cells (like this one) to add longer explanations and comments to your code:\n",
        "\n",
        "- Open Google Colab (https://colab.research.google.com) and sign in with your Google account. \n",
        "- To create a new notebook: `File > New notebook`. \n",
        "- Notebooks are saved to the `Colab Notebooks` folder in Google Drive.\n",
        "\n",
        "**What is a DataFrame?**\n",
        "\n",
        "A DataFrame is a specialised Python data structure. It is a way of organising data into a table that's easy to view and manipulate. Think of it like a spreadsheet with rows and columns. In each column, you can store a type of data (like names, ages, or scores), and each row corresponds to a different set of data or a different \"record\". This structure is particularly useful in Python with libraries like `Pandas`, which provide tools to manipulate and analyse data.\n",
        "\n",
        "**Statistical Measures: Mean vs. Median**\n",
        "\n",
        "- **Mean (Average)**: Sum of all values divided by the number of values. Sensitive to outliers.\n",
        "- **Median**: The middle value when data is ordered. Less affected by outliers."
      ]
    },
    {
      "cell_type": "markdown",
      "metadata": {},
      "source": [
        "#### The Data\n",
        "\n",
        "Download the `salaries_by_college_major.csv` file from the course resources (or Nav's email) and add this file to the notebook by dropping it into the sidebar with the little folder icon."
      ]
    },
    {
      "cell_type": "markdown",
      "metadata": {},
      "source": [
        "#### 1. Import Dataframe from CSV\n",
        "\n",
        "First we use the read_csv() method from Pandas to import our DataFrame into the notebook."
      ]
    },
    {
      "cell_type": "code",
      "execution_count": 31,
      "metadata": {
        "id": "IyWRAwCJwCmX"
      },
      "outputs": [],
      "source": [
        "import pandas as pd\n",
        "\n",
        "df = pd.read_csv('/content/salaries_by_college_major.csv')"
      ]
    },
    {
      "cell_type": "markdown",
      "metadata": {},
      "source": [
        "#### 2. Preliminary Data Exploration with Pandas\n",
        "\n",
        "Now that we've got our data loaded into our DataFrame, we need to take a closer look at it to help us understand what it is we are working with. This is always the first step with any data science project. Let's see if we can answer the following questions:\n",
        "\n",
        "- How many rows does our DataFrame have? \n",
        "- How many columns does it have?\n",
        "- What are the labels for the columns? Do the columns have names?"
      ]
    },
    {
      "cell_type": "markdown",
      "metadata": {},
      "source": [
        "Now take a look at the Pandas DataFrame we've just created with .head(). This will show us the first 5 rows of our DataFrame."
      ]
    },
    {
      "cell_type": "code",
      "execution_count": 32,
      "metadata": {
        "id": "pwAoP2UBxB6Q"
      },
      "outputs": [
        {
          "data": {
            "text/html": [
              "<div>\n",
              "<style scoped>\n",
              "    .dataframe tbody tr th:only-of-type {\n",
              "        vertical-align: middle;\n",
              "    }\n",
              "\n",
              "    .dataframe tbody tr th {\n",
              "        vertical-align: top;\n",
              "    }\n",
              "\n",
              "    .dataframe thead th {\n",
              "        text-align: right;\n",
              "    }\n",
              "</style>\n",
              "<table border=\"1\" class=\"dataframe\">\n",
              "  <thead>\n",
              "    <tr style=\"text-align: right;\">\n",
              "      <th></th>\n",
              "      <th>Undergraduate Major</th>\n",
              "      <th>Starting Median Salary</th>\n",
              "      <th>Mid-Career Median Salary</th>\n",
              "      <th>Mid-Career 10th Percentile Salary</th>\n",
              "      <th>Mid-Career 90th Percentile Salary</th>\n",
              "      <th>Group</th>\n",
              "    </tr>\n",
              "  </thead>\n",
              "  <tbody>\n",
              "    <tr>\n",
              "      <th>0</th>\n",
              "      <td>Accounting</td>\n",
              "      <td>46000.0</td>\n",
              "      <td>77100.0</td>\n",
              "      <td>42200.0</td>\n",
              "      <td>152000.0</td>\n",
              "      <td>Business</td>\n",
              "    </tr>\n",
              "    <tr>\n",
              "      <th>1</th>\n",
              "      <td>Aerospace Engineering</td>\n",
              "      <td>57700.0</td>\n",
              "      <td>101000.0</td>\n",
              "      <td>64300.0</td>\n",
              "      <td>161000.0</td>\n",
              "      <td>STEM</td>\n",
              "    </tr>\n",
              "    <tr>\n",
              "      <th>2</th>\n",
              "      <td>Agriculture</td>\n",
              "      <td>42600.0</td>\n",
              "      <td>71900.0</td>\n",
              "      <td>36300.0</td>\n",
              "      <td>150000.0</td>\n",
              "      <td>Business</td>\n",
              "    </tr>\n",
              "    <tr>\n",
              "      <th>3</th>\n",
              "      <td>Anthropology</td>\n",
              "      <td>36800.0</td>\n",
              "      <td>61500.0</td>\n",
              "      <td>33800.0</td>\n",
              "      <td>138000.0</td>\n",
              "      <td>HASS</td>\n",
              "    </tr>\n",
              "    <tr>\n",
              "      <th>4</th>\n",
              "      <td>Architecture</td>\n",
              "      <td>41600.0</td>\n",
              "      <td>76800.0</td>\n",
              "      <td>50600.0</td>\n",
              "      <td>136000.0</td>\n",
              "      <td>Business</td>\n",
              "    </tr>\n",
              "  </tbody>\n",
              "</table>\n",
              "</div>"
            ],
            "text/plain": [
              "     Undergraduate Major  Starting Median Salary  Mid-Career Median Salary  \\\n",
              "0             Accounting                 46000.0                   77100.0   \n",
              "1  Aerospace Engineering                 57700.0                  101000.0   \n",
              "2            Agriculture                 42600.0                   71900.0   \n",
              "3           Anthropology                 36800.0                   61500.0   \n",
              "4           Architecture                 41600.0                   76800.0   \n",
              "\n",
              "   Mid-Career 10th Percentile Salary  Mid-Career 90th Percentile Salary  \\\n",
              "0                            42200.0                           152000.0   \n",
              "1                            64300.0                           161000.0   \n",
              "2                            36300.0                           150000.0   \n",
              "3                            33800.0                           138000.0   \n",
              "4                            50600.0                           136000.0   \n",
              "\n",
              "      Group  \n",
              "0  Business  \n",
              "1      STEM  \n",
              "2  Business  \n",
              "3      HASS  \n",
              "4  Business  "
            ]
          },
          "execution_count": 32,
          "metadata": {},
          "output_type": "execute_result"
        }
      ],
      "source": [
        "df.head()"
      ]
    },
    {
      "cell_type": "code",
      "execution_count": 33,
      "metadata": {},
      "outputs": [
        {
          "data": {
            "text/html": [
              "<div>\n",
              "<style scoped>\n",
              "    .dataframe tbody tr th:only-of-type {\n",
              "        vertical-align: middle;\n",
              "    }\n",
              "\n",
              "    .dataframe tbody tr th {\n",
              "        vertical-align: top;\n",
              "    }\n",
              "\n",
              "    .dataframe thead th {\n",
              "        text-align: right;\n",
              "    }\n",
              "</style>\n",
              "<table border=\"1\" class=\"dataframe\">\n",
              "  <thead>\n",
              "    <tr style=\"text-align: right;\">\n",
              "      <th></th>\n",
              "      <th>Undergraduate Major</th>\n",
              "      <th>Starting Median Salary</th>\n",
              "      <th>Mid-Career Median Salary</th>\n",
              "      <th>Mid-Career 10th Percentile Salary</th>\n",
              "      <th>Mid-Career 90th Percentile Salary</th>\n",
              "      <th>Group</th>\n",
              "    </tr>\n",
              "  </thead>\n",
              "  <tbody>\n",
              "    <tr>\n",
              "      <th>0</th>\n",
              "      <td>Accounting</td>\n",
              "      <td>46000.0</td>\n",
              "      <td>77100.0</td>\n",
              "      <td>42200.0</td>\n",
              "      <td>152000.0</td>\n",
              "      <td>Business</td>\n",
              "    </tr>\n",
              "    <tr>\n",
              "      <th>1</th>\n",
              "      <td>Aerospace Engineering</td>\n",
              "      <td>57700.0</td>\n",
              "      <td>101000.0</td>\n",
              "      <td>64300.0</td>\n",
              "      <td>161000.0</td>\n",
              "      <td>STEM</td>\n",
              "    </tr>\n",
              "    <tr>\n",
              "      <th>2</th>\n",
              "      <td>Agriculture</td>\n",
              "      <td>42600.0</td>\n",
              "      <td>71900.0</td>\n",
              "      <td>36300.0</td>\n",
              "      <td>150000.0</td>\n",
              "      <td>Business</td>\n",
              "    </tr>\n",
              "    <tr>\n",
              "      <th>3</th>\n",
              "      <td>Anthropology</td>\n",
              "      <td>36800.0</td>\n",
              "      <td>61500.0</td>\n",
              "      <td>33800.0</td>\n",
              "      <td>138000.0</td>\n",
              "      <td>HASS</td>\n",
              "    </tr>\n",
              "    <tr>\n",
              "      <th>4</th>\n",
              "      <td>Architecture</td>\n",
              "      <td>41600.0</td>\n",
              "      <td>76800.0</td>\n",
              "      <td>50600.0</td>\n",
              "      <td>136000.0</td>\n",
              "      <td>Business</td>\n",
              "    </tr>\n",
              "    <tr>\n",
              "      <th>5</th>\n",
              "      <td>Art History</td>\n",
              "      <td>35800.0</td>\n",
              "      <td>64900.0</td>\n",
              "      <td>28800.0</td>\n",
              "      <td>125000.0</td>\n",
              "      <td>HASS</td>\n",
              "    </tr>\n",
              "    <tr>\n",
              "      <th>6</th>\n",
              "      <td>Biology</td>\n",
              "      <td>38800.0</td>\n",
              "      <td>64800.0</td>\n",
              "      <td>36900.0</td>\n",
              "      <td>135000.0</td>\n",
              "      <td>STEM</td>\n",
              "    </tr>\n",
              "    <tr>\n",
              "      <th>7</th>\n",
              "      <td>Business Management</td>\n",
              "      <td>43000.0</td>\n",
              "      <td>72100.0</td>\n",
              "      <td>38800.0</td>\n",
              "      <td>147000.0</td>\n",
              "      <td>Business</td>\n",
              "    </tr>\n",
              "    <tr>\n",
              "      <th>8</th>\n",
              "      <td>Chemical Engineering</td>\n",
              "      <td>63200.0</td>\n",
              "      <td>107000.0</td>\n",
              "      <td>71900.0</td>\n",
              "      <td>194000.0</td>\n",
              "      <td>STEM</td>\n",
              "    </tr>\n",
              "    <tr>\n",
              "      <th>9</th>\n",
              "      <td>Chemistry</td>\n",
              "      <td>42600.0</td>\n",
              "      <td>79900.0</td>\n",
              "      <td>45300.0</td>\n",
              "      <td>148000.0</td>\n",
              "      <td>STEM</td>\n",
              "    </tr>\n",
              "  </tbody>\n",
              "</table>\n",
              "</div>"
            ],
            "text/plain": [
              "     Undergraduate Major  Starting Median Salary  Mid-Career Median Salary  \\\n",
              "0             Accounting                 46000.0                   77100.0   \n",
              "1  Aerospace Engineering                 57700.0                  101000.0   \n",
              "2            Agriculture                 42600.0                   71900.0   \n",
              "3           Anthropology                 36800.0                   61500.0   \n",
              "4           Architecture                 41600.0                   76800.0   \n",
              "5            Art History                 35800.0                   64900.0   \n",
              "6                Biology                 38800.0                   64800.0   \n",
              "7    Business Management                 43000.0                   72100.0   \n",
              "8   Chemical Engineering                 63200.0                  107000.0   \n",
              "9              Chemistry                 42600.0                   79900.0   \n",
              "\n",
              "   Mid-Career 10th Percentile Salary  Mid-Career 90th Percentile Salary  \\\n",
              "0                            42200.0                           152000.0   \n",
              "1                            64300.0                           161000.0   \n",
              "2                            36300.0                           150000.0   \n",
              "3                            33800.0                           138000.0   \n",
              "4                            50600.0                           136000.0   \n",
              "5                            28800.0                           125000.0   \n",
              "6                            36900.0                           135000.0   \n",
              "7                            38800.0                           147000.0   \n",
              "8                            71900.0                           194000.0   \n",
              "9                            45300.0                           148000.0   \n",
              "\n",
              "      Group  \n",
              "0  Business  \n",
              "1      STEM  \n",
              "2  Business  \n",
              "3      HASS  \n",
              "4  Business  \n",
              "5      HASS  \n",
              "6      STEM  \n",
              "7  Business  \n",
              "8      STEM  \n",
              "9      STEM  "
            ]
          },
          "execution_count": 33,
          "metadata": {},
          "output_type": "execute_result"
        }
      ],
      "source": [
        "# We can look at more than just the first 5 rows,\n",
        "# by passing in the number of rows we want to see\n",
        "df.head(10)"
      ]
    },
    {
      "cell_type": "markdown",
      "metadata": {},
      "source": [
        "We've already used the .head() method to peek at the top 5 rows of our DataFrame. To see the number of rows and columns we can use the shape attribute:"
      ]
    },
    {
      "cell_type": "code",
      "execution_count": 34,
      "metadata": {
        "id": "ej0YVWXYxglS"
      },
      "outputs": [
        {
          "data": {
            "text/plain": [
              "(51, 6)"
            ]
          },
          "execution_count": 34,
          "metadata": {},
          "output_type": "execute_result"
        }
      ],
      "source": [
        "# Show us the structure of the data whiuch has 51 rows and 6 columns\n",
        "df.shape"
      ]
    },
    {
      "cell_type": "code",
      "execution_count": 35,
      "metadata": {
        "id": "tOY3zE5qxzDi"
      },
      "outputs": [
        {
          "data": {
            "text/plain": [
              "Index(['Undergraduate Major', 'Starting Median Salary',\n",
              "       'Mid-Career Median Salary', 'Mid-Career 10th Percentile Salary',\n",
              "       'Mid-Career 90th Percentile Salary', 'Group'],\n",
              "      dtype='object')"
            ]
          },
          "execution_count": 35,
          "metadata": {},
          "output_type": "execute_result"
        }
      ],
      "source": [
        "# We saw that each column had a name.\n",
        "# We can access the column names directly with the columns attribute.\n",
        "df.columns"
      ]
    },
    {
      "cell_type": "markdown",
      "metadata": {},
      "source": [
        "#### 3. Data Cleaning\n",
        "\n",
        "Before we can proceed with our analysis we should try and figure out if there is any missing data in our DataFrame. That way we can avoid problems later on. In this case, we're going to look for NaN (Not A Number) values in our dataframe. NaN values are blank cells or cells that contain strings instead of numbers. Use the .isna() method and see if you can spot if there's a problem somewhere."
      ]
    },
    {
      "cell_type": "code",
      "execution_count": 36,
      "metadata": {},
      "outputs": [
        {
          "data": {
            "text/html": [
              "<div>\n",
              "<style scoped>\n",
              "    .dataframe tbody tr th:only-of-type {\n",
              "        vertical-align: middle;\n",
              "    }\n",
              "\n",
              "    .dataframe tbody tr th {\n",
              "        vertical-align: top;\n",
              "    }\n",
              "\n",
              "    .dataframe thead th {\n",
              "        text-align: right;\n",
              "    }\n",
              "</style>\n",
              "<table border=\"1\" class=\"dataframe\">\n",
              "  <thead>\n",
              "    <tr style=\"text-align: right;\">\n",
              "      <th></th>\n",
              "      <th>Undergraduate Major</th>\n",
              "      <th>Starting Median Salary</th>\n",
              "      <th>Mid-Career Median Salary</th>\n",
              "      <th>Mid-Career 10th Percentile Salary</th>\n",
              "      <th>Mid-Career 90th Percentile Salary</th>\n",
              "      <th>Group</th>\n",
              "    </tr>\n",
              "  </thead>\n",
              "  <tbody>\n",
              "    <tr>\n",
              "      <th>0</th>\n",
              "      <td>False</td>\n",
              "      <td>False</td>\n",
              "      <td>False</td>\n",
              "      <td>False</td>\n",
              "      <td>False</td>\n",
              "      <td>False</td>\n",
              "    </tr>\n",
              "    <tr>\n",
              "      <th>1</th>\n",
              "      <td>False</td>\n",
              "      <td>False</td>\n",
              "      <td>False</td>\n",
              "      <td>False</td>\n",
              "      <td>False</td>\n",
              "      <td>False</td>\n",
              "    </tr>\n",
              "    <tr>\n",
              "      <th>2</th>\n",
              "      <td>False</td>\n",
              "      <td>False</td>\n",
              "      <td>False</td>\n",
              "      <td>False</td>\n",
              "      <td>False</td>\n",
              "      <td>False</td>\n",
              "    </tr>\n",
              "    <tr>\n",
              "      <th>3</th>\n",
              "      <td>False</td>\n",
              "      <td>False</td>\n",
              "      <td>False</td>\n",
              "      <td>False</td>\n",
              "      <td>False</td>\n",
              "      <td>False</td>\n",
              "    </tr>\n",
              "    <tr>\n",
              "      <th>4</th>\n",
              "      <td>False</td>\n",
              "      <td>False</td>\n",
              "      <td>False</td>\n",
              "      <td>False</td>\n",
              "      <td>False</td>\n",
              "      <td>False</td>\n",
              "    </tr>\n",
              "  </tbody>\n",
              "</table>\n",
              "</div>"
            ],
            "text/plain": [
              "   Undergraduate Major  Starting Median Salary  Mid-Career Median Salary  \\\n",
              "0                False                   False                     False   \n",
              "1                False                   False                     False   \n",
              "2                False                   False                     False   \n",
              "3                False                   False                     False   \n",
              "4                False                   False                     False   \n",
              "\n",
              "   Mid-Career 10th Percentile Salary  Mid-Career 90th Percentile Salary  Group  \n",
              "0                              False                              False  False  \n",
              "1                              False                              False  False  \n",
              "2                              False                              False  False  \n",
              "3                              False                              False  False  \n",
              "4                              False                              False  False  "
            ]
          },
          "execution_count": 36,
          "metadata": {},
          "output_type": "execute_result"
        }
      ],
      "source": [
        "df.isna().head()"
      ]
    },
    {
      "cell_type": "code",
      "execution_count": 37,
      "metadata": {
        "colab": {
          "base_uri": "https://localhost:8080/",
          "height": 255
        },
        "id": "DMZmGVQTycL7",
        "outputId": "389132fd-9f2e-46b9-a463-4c3c87a85b39"
      },
      "outputs": [
        {
          "data": {
            "text/html": [
              "<div>\n",
              "<style scoped>\n",
              "    .dataframe tbody tr th:only-of-type {\n",
              "        vertical-align: middle;\n",
              "    }\n",
              "\n",
              "    .dataframe tbody tr th {\n",
              "        vertical-align: top;\n",
              "    }\n",
              "\n",
              "    .dataframe thead th {\n",
              "        text-align: right;\n",
              "    }\n",
              "</style>\n",
              "<table border=\"1\" class=\"dataframe\">\n",
              "  <thead>\n",
              "    <tr style=\"text-align: right;\">\n",
              "      <th></th>\n",
              "      <th>Undergraduate Major</th>\n",
              "      <th>Starting Median Salary</th>\n",
              "      <th>Mid-Career Median Salary</th>\n",
              "      <th>Mid-Career 10th Percentile Salary</th>\n",
              "      <th>Mid-Career 90th Percentile Salary</th>\n",
              "      <th>Group</th>\n",
              "    </tr>\n",
              "  </thead>\n",
              "  <tbody>\n",
              "    <tr>\n",
              "      <th>46</th>\n",
              "      <td>Psychology</td>\n",
              "      <td>35900.0</td>\n",
              "      <td>60400.0</td>\n",
              "      <td>31600.0</td>\n",
              "      <td>127000.0</td>\n",
              "      <td>HASS</td>\n",
              "    </tr>\n",
              "    <tr>\n",
              "      <th>47</th>\n",
              "      <td>Religion</td>\n",
              "      <td>34100.0</td>\n",
              "      <td>52000.0</td>\n",
              "      <td>29700.0</td>\n",
              "      <td>96400.0</td>\n",
              "      <td>HASS</td>\n",
              "    </tr>\n",
              "    <tr>\n",
              "      <th>48</th>\n",
              "      <td>Sociology</td>\n",
              "      <td>36500.0</td>\n",
              "      <td>58200.0</td>\n",
              "      <td>30700.0</td>\n",
              "      <td>118000.0</td>\n",
              "      <td>HASS</td>\n",
              "    </tr>\n",
              "    <tr>\n",
              "      <th>49</th>\n",
              "      <td>Spanish</td>\n",
              "      <td>34000.0</td>\n",
              "      <td>53100.0</td>\n",
              "      <td>31000.0</td>\n",
              "      <td>96400.0</td>\n",
              "      <td>HASS</td>\n",
              "    </tr>\n",
              "    <tr>\n",
              "      <th>50</th>\n",
              "      <td>Source: PayScale Inc.</td>\n",
              "      <td>NaN</td>\n",
              "      <td>NaN</td>\n",
              "      <td>NaN</td>\n",
              "      <td>NaN</td>\n",
              "      <td>NaN</td>\n",
              "    </tr>\n",
              "  </tbody>\n",
              "</table>\n",
              "</div>"
            ],
            "text/plain": [
              "      Undergraduate Major  Starting Median Salary  Mid-Career Median Salary  \\\n",
              "46             Psychology                 35900.0                   60400.0   \n",
              "47               Religion                 34100.0                   52000.0   \n",
              "48              Sociology                 36500.0                   58200.0   \n",
              "49                Spanish                 34000.0                   53100.0   \n",
              "50  Source: PayScale Inc.                     NaN                       NaN   \n",
              "\n",
              "    Mid-Career 10th Percentile Salary  Mid-Career 90th Percentile Salary Group  \n",
              "46                            31600.0                           127000.0  HASS  \n",
              "47                            29700.0                            96400.0  HASS  \n",
              "48                            30700.0                           118000.0  HASS  \n",
              "49                            31000.0                            96400.0  HASS  \n",
              "50                                NaN                                NaN   NaN  "
            ]
          },
          "execution_count": 37,
          "metadata": {},
          "output_type": "execute_result"
        }
      ],
      "source": [
        "# Did you find anything? Let's check the last couple of rows in the DataFrame.\n",
        "df.tail()"
      ]
    },
    {
      "cell_type": "markdown",
      "metadata": {
        "id": "wBzmAys6yxXk"
      },
      "source": [
        "--> We can see that **the last row has NaN values** for all columns.\n",
        "\n",
        "We don't want this row in our DataFrame. The easiest way is to simply use the .dropna() method from pandas. Let's create a new \"clean\" DataFrame without the last row and examine the last 5 rows to make sure we removed the last row:"
      ]
    },
    {
      "cell_type": "code",
      "execution_count": 38,
      "metadata": {
        "id": "Rg8II2pWy6Kk"
      },
      "outputs": [
        {
          "data": {
            "text/html": [
              "<div>\n",
              "<style scoped>\n",
              "    .dataframe tbody tr th:only-of-type {\n",
              "        vertical-align: middle;\n",
              "    }\n",
              "\n",
              "    .dataframe tbody tr th {\n",
              "        vertical-align: top;\n",
              "    }\n",
              "\n",
              "    .dataframe thead th {\n",
              "        text-align: right;\n",
              "    }\n",
              "</style>\n",
              "<table border=\"1\" class=\"dataframe\">\n",
              "  <thead>\n",
              "    <tr style=\"text-align: right;\">\n",
              "      <th></th>\n",
              "      <th>Undergraduate Major</th>\n",
              "      <th>Starting Median Salary</th>\n",
              "      <th>Mid-Career Median Salary</th>\n",
              "      <th>Mid-Career 10th Percentile Salary</th>\n",
              "      <th>Mid-Career 90th Percentile Salary</th>\n",
              "      <th>Group</th>\n",
              "    </tr>\n",
              "  </thead>\n",
              "  <tbody>\n",
              "    <tr>\n",
              "      <th>45</th>\n",
              "      <td>Political Science</td>\n",
              "      <td>40800.0</td>\n",
              "      <td>78200.0</td>\n",
              "      <td>41200.0</td>\n",
              "      <td>168000.0</td>\n",
              "      <td>HASS</td>\n",
              "    </tr>\n",
              "    <tr>\n",
              "      <th>46</th>\n",
              "      <td>Psychology</td>\n",
              "      <td>35900.0</td>\n",
              "      <td>60400.0</td>\n",
              "      <td>31600.0</td>\n",
              "      <td>127000.0</td>\n",
              "      <td>HASS</td>\n",
              "    </tr>\n",
              "    <tr>\n",
              "      <th>47</th>\n",
              "      <td>Religion</td>\n",
              "      <td>34100.0</td>\n",
              "      <td>52000.0</td>\n",
              "      <td>29700.0</td>\n",
              "      <td>96400.0</td>\n",
              "      <td>HASS</td>\n",
              "    </tr>\n",
              "    <tr>\n",
              "      <th>48</th>\n",
              "      <td>Sociology</td>\n",
              "      <td>36500.0</td>\n",
              "      <td>58200.0</td>\n",
              "      <td>30700.0</td>\n",
              "      <td>118000.0</td>\n",
              "      <td>HASS</td>\n",
              "    </tr>\n",
              "    <tr>\n",
              "      <th>49</th>\n",
              "      <td>Spanish</td>\n",
              "      <td>34000.0</td>\n",
              "      <td>53100.0</td>\n",
              "      <td>31000.0</td>\n",
              "      <td>96400.0</td>\n",
              "      <td>HASS</td>\n",
              "    </tr>\n",
              "  </tbody>\n",
              "</table>\n",
              "</div>"
            ],
            "text/plain": [
              "   Undergraduate Major  Starting Median Salary  Mid-Career Median Salary  \\\n",
              "45   Political Science                 40800.0                   78200.0   \n",
              "46          Psychology                 35900.0                   60400.0   \n",
              "47            Religion                 34100.0                   52000.0   \n",
              "48           Sociology                 36500.0                   58200.0   \n",
              "49             Spanish                 34000.0                   53100.0   \n",
              "\n",
              "    Mid-Career 10th Percentile Salary  Mid-Career 90th Percentile Salary Group  \n",
              "45                            41200.0                           168000.0  HASS  \n",
              "46                            31600.0                           127000.0  HASS  \n",
              "47                            29700.0                            96400.0  HASS  \n",
              "48                            30700.0                           118000.0  HASS  \n",
              "49                            31000.0                            96400.0  HASS  "
            ]
          },
          "execution_count": 38,
          "metadata": {},
          "output_type": "execute_result"
        }
      ],
      "source": [
        "# Delete the not a number rows\n",
        "clean_df = df.dropna()\n",
        "\n",
        "# Let's see if that's worked!\n",
        "clean_df.tail()"
      ]
    },
    {
      "cell_type": "markdown",
      "metadata": {
        "id": "LKXBTDUWzLob"
      },
      "source": [
        "#### 4. Filtering and Manipulating DataFrames\n",
        "\n",
        "University degrees are very expensive. But, do they pay you back? We'll be digging into this data and use Pandas to answer these questions:\n",
        "\n",
        "- Which degrees have the highest starting salaries?\n",
        "- Which majors have the lowest earnings after college?\n",
        "- Do Business, STEM (Science, Technology, Engineering, Mathematics) or HASS (Humanities, Arts, Social Science) degrees earn more on average?\n",
        "\n",
        "We can use pandas to:\n",
        "\n",
        "- Access specific pieces of data quickly.\n",
        "- Perform operations on large amounts of data all at once.\n",
        "- Filter and sort data based on specific criteria."
      ]
    },
    {
      "cell_type": "code",
      "execution_count": 39,
      "metadata": {
        "id": "rySRCd6BzUwN"
      },
      "outputs": [
        {
          "data": {
            "text/plain": [
              "0    46000.0\n",
              "1    57700.0\n",
              "2    42600.0\n",
              "3    36800.0\n",
              "4    41600.0\n",
              "Name: Starting Median Salary, dtype: float64"
            ]
          },
          "execution_count": 39,
          "metadata": {},
          "output_type": "execute_result"
        }
      ],
      "source": [
        "# To access a particular column from a data frame we can use square brackets\n",
        "clean_df['Starting Median Salary'].head()"
      ]
    },
    {
      "cell_type": "code",
      "execution_count": 40,
      "metadata": {
        "colab": {
          "base_uri": "https://localhost:8080/"
        },
        "id": "IolzdDhWzm9i",
        "outputId": "d64119b3-b2b2-438d-e4bf-598479995da0"
      },
      "outputs": [
        {
          "data": {
            "text/plain": [
              "74300.0"
            ]
          },
          "execution_count": 40,
          "metadata": {},
          "output_type": "execute_result"
        }
      ],
      "source": [
        "# To find the highest starting salary we can simply chain the .max() method.\n",
        "clean_df['Starting Median Salary'].max()"
      ]
    },
    {
      "cell_type": "markdown",
      "metadata": {
        "id": "gpcthVKoz0KC"
      },
      "source": [
        "The highest starting salary is $74,300. But which college major earns this much on average? For this, we need to know the row number or index so that we can look up the name of the major. Lucky for us, the .idxmax() method will give us index for the row with the largest value."
      ]
    },
    {
      "cell_type": "code",
      "execution_count": 41,
      "metadata": {
        "colab": {
          "base_uri": "https://localhost:8080/"
        },
        "id": "JVfs4ziqz2ia",
        "outputId": "76bc7116-07c9-40d0-b692-883c03d0a4e8"
      },
      "outputs": [
        {
          "data": {
            "text/plain": [
              "43"
            ]
          },
          "execution_count": 41,
          "metadata": {},
          "output_type": "execute_result"
        }
      ],
      "source": [
        "# This will return the row index\n",
        "clean_df['Starting Median Salary'].idxmax()\n",
        "\n",
        "# It should return row index 43"
      ]
    },
    {
      "cell_type": "code",
      "execution_count": 42,
      "metadata": {
        "colab": {
          "base_uri": "https://localhost:8080/",
          "height": 35
        },
        "id": "3pBeEft20IhU",
        "outputId": "f04be740-6c46-4b32-88a5-e11c760db35e"
      },
      "outputs": [
        {
          "data": {
            "text/plain": [
              "'Physician Assistant'"
            ]
          },
          "execution_count": 42,
          "metadata": {},
          "output_type": "execute_result"
        }
      ],
      "source": [
        "# To see the name of the major that corresponds to that particular row, \n",
        "# we can use the .loc (location) property.\n",
        "clean_df['Undergraduate Major'].loc[43]"
      ]
    },
    {
      "cell_type": "markdown",
      "metadata": {
        "id": "XdUaQYmX0ywn"
      },
      "source": [
        "#### 5. Home Exercise (optional)\n",
        "\n",
        "Use the skills you've learned today to answer the following questions:\n",
        "\n",
        "- What college major has the highest mid-career salary? How much do graduates with this major earn? (Mid-career is defined as having 10+ years of experience).\n",
        "- Which college major has the lowest starting salary and how much do graduates earn after university?\n",
        "\n",
        "**Bonus Question:**\n",
        "- What's the average starting salary for majors within the STEM field?"
      ]
    }
  ],
  "metadata": {
    "colab": {
      "provenance": []
    },
    "kernelspec": {
      "display_name": "Python 3",
      "name": "python3"
    },
    "language_info": {
      "codemirror_mode": {
        "name": "ipython",
        "version": 3
      },
      "file_extension": ".py",
      "mimetype": "text/x-python",
      "name": "python",
      "nbconvert_exporter": "python",
      "pygments_lexer": "ipython3",
      "version": "3.9.6"
    }
  },
  "nbformat": 4,
  "nbformat_minor": 0
}
