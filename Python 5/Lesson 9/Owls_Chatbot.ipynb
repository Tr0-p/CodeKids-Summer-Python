{
  "nbformat": 4,
  "nbformat_minor": 0,
  "metadata": {
    "colab": {
      "provenance": []
    },
    "kernelspec": {
      "name": "python3",
      "display_name": "Python 3"
    },
    "language_info": {
      "name": "python"
    }
  },
  "cells": [
    {
      "cell_type": "code",
      "execution_count": 1,
      "metadata": {
        "id": "c8OrVnoRxg8g"
      },
      "outputs": [],
      "source": [
        "import requests\n",
        "\n",
        "# This function will pass your text to the machine learning model\n",
        "# and return the top result with the highest confidence\n",
        "def classify(text):\n",
        "    key = \"1ce873c0-33e8-11ef-b9d0-1dd123a2c04515b6459f-ab67-469a-a0a9-78ffbdb056ef\"\n",
        "    url = \"https://machinelearningforkids.co.uk/api/scratch/\"+ key + \"/classify\"\n",
        "\n",
        "    response = requests.get(url, params={ \"data\" : text })\n",
        "\n",
        "    if response.ok:\n",
        "        responseData = response.json()\n",
        "        topMatch = responseData[0]\n",
        "        return topMatch\n",
        "    else:\n",
        "        response.raise_for_status()"
      ]
    },
    {
      "cell_type": "code",
      "source": [
        "def answer_question():\n",
        "  question = input(\"> \")\n",
        "  answer = classify(question)\n",
        "  answerclass = answer[\"class_name\"]\n",
        "  if answerclass == \"food\":\n",
        "    print (\"It depends on the species of owl. Small owls eat invertebrates (such as insects), while larger owls eat small mammals (such as mice or rabbits).\")\n",
        "  elif answerclass == \"countries\":\n",
        "    print (\"Some owls live in deserts, some owls live in forests, some owls live in grasslands, and some live in tundra.\")\n",
        "  elif answerclass == \"lifespan\":\n",
        "    print (\"Different species of owls live for different lengths of time. The European Barn Owl lives for around 4 years on average.\")\n",
        "  elif answerclass == \"species\":\n",
        "    print (\"There are over 200 species of owl. Some common ones include Barn Owls, Snowy Owls, and Great Horned Owls.\")\n",
        "  elif answerclass == \"size\":\n",
        "    print (\"Different owl species can grow to different sizes. The Great Grey Owl is one of the largest, while the Elf Owl is one of the smallest.\")\n",
        "\n"
      ],
      "metadata": {
        "id": "AUQUbWLA0bZn"
      },
      "execution_count": 3,
      "outputs": []
    },
    {
      "cell_type": "markdown",
      "source": [],
      "metadata": {
        "id": "mUYMWudN2OOP"
      }
    },
    {
      "cell_type": "code",
      "source": [
        "print(\"What would you like to know about owls?\")\n",
        "while True:\n",
        "  answer_question()"
      ],
      "metadata": {
        "colab": {
          "base_uri": "https://localhost:8080/"
        },
        "id": "aMor-CWn3gpk",
        "outputId": "d834964a-ca1e-4726-8e74-246f39228e55"
      },
      "execution_count": null,
      "outputs": [
        {
          "metadata": {
            "tags": null
          },
          "name": "stdout",
          "output_type": "stream",
          "text": [
            "What would you like to know about owls?\n",
            "It depends on the species of owl. Small owls eat invertebrates (such as insects), while larger owls eat small mammals (such as mice or rabbits).\n"
          ]
        }
      ]
    }
  ]
}