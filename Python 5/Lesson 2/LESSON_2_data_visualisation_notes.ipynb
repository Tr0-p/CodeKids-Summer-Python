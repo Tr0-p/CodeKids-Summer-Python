{
  "cells": [
    {
      "cell_type": "markdown",
      "metadata": {},
      "source": [
        "# PYTHON 5 - LESSON 2\n",
        "## Data Science Stream - Data Visualiation\n",
        "\n",
        "Date: 01 May 2024\n",
        "\n",
        "#### Summary\n",
        "Today we focused on visualising data. We talked about:\n",
        "\n",
        "1. Solution to Home Exercise\n",
        "2. More DataFrame Manipulation\n",
        "    - .loc[rows, columns]\n",
        "    - .value_counts()\n",
        "3. Plotting (with libraries such as matplotlib and seaborn)\n",
        "    - Histograms"
      ]
    },
    {
      "cell_type": "markdown",
      "metadata": {},
      "source": [
        "#### The Data\n",
        "\n",
        "Download the `salaries_by_college_major.csv` file from the course resources (or Nav's email) and add this file to the notebook by dropping it into the sidebar with the little folder icon."
      ]
    },
    {
      "cell_type": "code",
      "execution_count": 35,
      "metadata": {
        "id": "IyWRAwCJwCmX"
      },
      "outputs": [],
      "source": [
        "# Importing libraries\n",
        "# First, we import all necessary libraries for our analysis.\n",
        "import pandas as pd\n",
        "import matplotlib.pyplot as plt  # for data visualisation\n",
        "import seaborn as sns  # for data visualisation\n",
        "\n",
        "# Loading the data\n",
        "df = pd.read_csv('datasets/salaries_by_college_major.csv')\n",
        "\n",
        "# Cleaning the data by dropping rows with missing values\n",
        "clean_df = df.dropna()"
      ]
    },
    {
      "cell_type": "markdown",
      "metadata": {},
      "source": [
        "#### 1. Solution to Home Exercise\n",
        "\n",
        "Use the skills you've learned today to answer the following questions:\n",
        "\n",
        "- What college major has the highest mid-career salary? How much do graduates with this major earn? (Mid-career is defined as having 10+ years of experience).\n",
        "- Which college major has the lowest starting salary and how much do graduates earn after university?\n",
        "\n",
        "**Bonus Question:**\n",
        "- What's the average starting salary for majors within the STEM field?"
      ]
    },
    {
      "cell_type": "code",
      "execution_count": 36,
      "metadata": {},
      "outputs": [
        {
          "name": "stdout",
          "output_type": "stream",
          "text": [
            "107000.0\n",
            "Index for the max mid career salary: 8\n",
            "Chemical Engineering\n"
          ]
        },
        {
          "data": {
            "text/plain": [
              "'Chemical Engineering'"
            ]
          },
          "execution_count": 36,
          "metadata": {},
          "output_type": "execute_result"
        }
      ],
      "source": [
        "# The Highest Mid-Career Salary\n",
        "print(clean_df['Mid-Career Median Salary'].max())\n",
        "print(f\"Index for the max mid career salary: \n",
        "      {clean_df['Mid-Career Median Salary'].idxmax()}\")\n",
        "# College Major with the Highest Mid-Career Salary\n",
        "print(clean_df['Undergraduate Major'][8])\n",
        "\n",
        "# Instead of looking up the index manually and then putting it into .loc[]\n",
        "# We can put everything together and simply do:\n",
        "clean_df['Undergraduate Major'].loc[clean_df['Mid-Career Median Salary'].idxmax()]"
      ]
    },
    {
      "cell_type": "code",
      "execution_count": 37,
      "metadata": {},
      "outputs": [
        {
          "name": "stdout",
          "output_type": "stream",
          "text": [
            "34000.0\n"
          ]
        },
        {
          "data": {
            "text/plain": [
              "'Spanish'"
            ]
          },
          "execution_count": 37,
          "metadata": {},
          "output_type": "execute_result"
        }
      ],
      "source": [
        "# The Lowest Starting Career Salary\n",
        "print(clean_df['Starting Median Salary'].min())\n",
        "# College Major with the Lowest Starting Career Salary\n",
        "clean_df['Undergraduate Major'].loc[clean_df['Starting Median Salary'].idxmin()]"
      ]
    },
    {
      "cell_type": "markdown",
      "metadata": {},
      "source": [
        "#### 2. More DataFrame Manipulation\n",
        "- Filtering DataFrames base on conditions\n",
        "- Using .loc[] to select rows and columns"
      ]
    },
    {
      "cell_type": "code",
      "execution_count": 38,
      "metadata": {},
      "outputs": [
        {
          "data": {
            "text/html": [
              "<div>\n",
              "<style scoped>\n",
              "    .dataframe tbody tr th:only-of-type {\n",
              "        vertical-align: middle;\n",
              "    }\n",
              "\n",
              "    .dataframe tbody tr th {\n",
              "        vertical-align: top;\n",
              "    }\n",
              "\n",
              "    .dataframe thead th {\n",
              "        text-align: right;\n",
              "    }\n",
              "</style>\n",
              "<table border=\"1\" class=\"dataframe\">\n",
              "  <thead>\n",
              "    <tr style=\"text-align: right;\">\n",
              "      <th></th>\n",
              "      <th>Undergraduate Major</th>\n",
              "      <th>Starting Median Salary</th>\n",
              "      <th>Mid-Career Median Salary</th>\n",
              "      <th>Mid-Career 10th Percentile Salary</th>\n",
              "      <th>Mid-Career 90th Percentile Salary</th>\n",
              "      <th>Group</th>\n",
              "    </tr>\n",
              "  </thead>\n",
              "  <tbody>\n",
              "    <tr>\n",
              "      <th>1</th>\n",
              "      <td>Aerospace Engineering</td>\n",
              "      <td>57700.0</td>\n",
              "      <td>101000.0</td>\n",
              "      <td>64300.0</td>\n",
              "      <td>161000.0</td>\n",
              "      <td>STEM</td>\n",
              "    </tr>\n",
              "    <tr>\n",
              "      <th>8</th>\n",
              "      <td>Chemical Engineering</td>\n",
              "      <td>63200.0</td>\n",
              "      <td>107000.0</td>\n",
              "      <td>71900.0</td>\n",
              "      <td>194000.0</td>\n",
              "      <td>STEM</td>\n",
              "    </tr>\n",
              "    <tr>\n",
              "      <th>10</th>\n",
              "      <td>Civil Engineering</td>\n",
              "      <td>53900.0</td>\n",
              "      <td>90500.0</td>\n",
              "      <td>63400.0</td>\n",
              "      <td>148000.0</td>\n",
              "      <td>STEM</td>\n",
              "    </tr>\n",
              "    <tr>\n",
              "      <th>12</th>\n",
              "      <td>Computer Engineering</td>\n",
              "      <td>61400.0</td>\n",
              "      <td>105000.0</td>\n",
              "      <td>66100.0</td>\n",
              "      <td>162000.0</td>\n",
              "      <td>STEM</td>\n",
              "    </tr>\n",
              "    <tr>\n",
              "      <th>13</th>\n",
              "      <td>Computer Science</td>\n",
              "      <td>55900.0</td>\n",
              "      <td>95500.0</td>\n",
              "      <td>56000.0</td>\n",
              "      <td>154000.0</td>\n",
              "      <td>STEM</td>\n",
              "    </tr>\n",
              "    <tr>\n",
              "      <th>14</th>\n",
              "      <td>Construction</td>\n",
              "      <td>53700.0</td>\n",
              "      <td>88900.0</td>\n",
              "      <td>56300.0</td>\n",
              "      <td>171000.0</td>\n",
              "      <td>Business</td>\n",
              "    </tr>\n",
              "    <tr>\n",
              "      <th>17</th>\n",
              "      <td>Economics</td>\n",
              "      <td>50100.0</td>\n",
              "      <td>98600.0</td>\n",
              "      <td>50600.0</td>\n",
              "      <td>210000.0</td>\n",
              "      <td>Business</td>\n",
              "    </tr>\n",
              "    <tr>\n",
              "      <th>19</th>\n",
              "      <td>Electrical Engineering</td>\n",
              "      <td>60900.0</td>\n",
              "      <td>103000.0</td>\n",
              "      <td>69300.0</td>\n",
              "      <td>168000.0</td>\n",
              "      <td>STEM</td>\n",
              "    </tr>\n",
              "    <tr>\n",
              "      <th>30</th>\n",
              "      <td>Industrial Engineering</td>\n",
              "      <td>57700.0</td>\n",
              "      <td>94700.0</td>\n",
              "      <td>57100.0</td>\n",
              "      <td>173000.0</td>\n",
              "      <td>STEM</td>\n",
              "    </tr>\n",
              "    <tr>\n",
              "      <th>38</th>\n",
              "      <td>Mechanical Engineering</td>\n",
              "      <td>57900.0</td>\n",
              "      <td>93600.0</td>\n",
              "      <td>63700.0</td>\n",
              "      <td>163000.0</td>\n",
              "      <td>STEM</td>\n",
              "    </tr>\n",
              "    <tr>\n",
              "      <th>40</th>\n",
              "      <td>Nursing</td>\n",
              "      <td>54200.0</td>\n",
              "      <td>67000.0</td>\n",
              "      <td>47600.0</td>\n",
              "      <td>98300.0</td>\n",
              "      <td>Business</td>\n",
              "    </tr>\n",
              "    <tr>\n",
              "      <th>43</th>\n",
              "      <td>Physician Assistant</td>\n",
              "      <td>74300.0</td>\n",
              "      <td>91700.0</td>\n",
              "      <td>66400.0</td>\n",
              "      <td>124000.0</td>\n",
              "      <td>STEM</td>\n",
              "    </tr>\n",
              "    <tr>\n",
              "      <th>44</th>\n",
              "      <td>Physics</td>\n",
              "      <td>50300.0</td>\n",
              "      <td>97300.0</td>\n",
              "      <td>56000.0</td>\n",
              "      <td>178000.0</td>\n",
              "      <td>STEM</td>\n",
              "    </tr>\n",
              "  </tbody>\n",
              "</table>\n",
              "</div>"
            ],
            "text/plain": [
              "       Undergraduate Major  Starting Median Salary  Mid-Career Median Salary  \\\n",
              "1    Aerospace Engineering                 57700.0                  101000.0   \n",
              "8     Chemical Engineering                 63200.0                  107000.0   \n",
              "10       Civil Engineering                 53900.0                   90500.0   \n",
              "12    Computer Engineering                 61400.0                  105000.0   \n",
              "13        Computer Science                 55900.0                   95500.0   \n",
              "14            Construction                 53700.0                   88900.0   \n",
              "17               Economics                 50100.0                   98600.0   \n",
              "19  Electrical Engineering                 60900.0                  103000.0   \n",
              "30  Industrial Engineering                 57700.0                   94700.0   \n",
              "38  Mechanical Engineering                 57900.0                   93600.0   \n",
              "40                 Nursing                 54200.0                   67000.0   \n",
              "43     Physician Assistant                 74300.0                   91700.0   \n",
              "44                 Physics                 50300.0                   97300.0   \n",
              "\n",
              "    Mid-Career 10th Percentile Salary  Mid-Career 90th Percentile Salary  \\\n",
              "1                             64300.0                           161000.0   \n",
              "8                             71900.0                           194000.0   \n",
              "10                            63400.0                           148000.0   \n",
              "12                            66100.0                           162000.0   \n",
              "13                            56000.0                           154000.0   \n",
              "14                            56300.0                           171000.0   \n",
              "17                            50600.0                           210000.0   \n",
              "19                            69300.0                           168000.0   \n",
              "30                            57100.0                           173000.0   \n",
              "38                            63700.0                           163000.0   \n",
              "40                            47600.0                            98300.0   \n",
              "43                            66400.0                           124000.0   \n",
              "44                            56000.0                           178000.0   \n",
              "\n",
              "       Group  \n",
              "1       STEM  \n",
              "8       STEM  \n",
              "10      STEM  \n",
              "12      STEM  \n",
              "13      STEM  \n",
              "14  Business  \n",
              "17  Business  \n",
              "19      STEM  \n",
              "30      STEM  \n",
              "38      STEM  \n",
              "40  Business  \n",
              "43      STEM  \n",
              "44      STEM  "
            ]
          },
          "execution_count": 38,
          "metadata": {},
          "output_type": "execute_result"
        }
      ],
      "source": [
        "# Filtering DataFrames base on conditions\n",
        "# Let's say we want to select all the college majors that have a \n",
        "# starting median salary greater than $50,000.\n",
        "clean_df.loc[clean_df['Starting Median Salary'] > 50000]"
      ]
    },
    {
      "cell_type": "code",
      "execution_count": 39,
      "metadata": {},
      "outputs": [
        {
          "data": {
            "text/plain": [
              "1     101000.0\n",
              "8     107000.0\n",
              "10     90500.0\n",
              "12    105000.0\n",
              "13     95500.0\n",
              "14     88900.0\n",
              "17     98600.0\n",
              "19    103000.0\n",
              "30     94700.0\n",
              "38     93600.0\n",
              "40     67000.0\n",
              "43     91700.0\n",
              "44     97300.0\n",
              "Name: Mid-Career Median Salary, dtype: float64"
            ]
          },
          "execution_count": 39,
          "metadata": {},
          "output_type": "execute_result"
        }
      ],
      "source": [
        "# Using .loc[] to select rows and columns\n",
        "\n",
        "# We can use .loc[] to select rows and columns at the same time.\n",
        "# .loc[ROWS, COLUMNS]\n",
        "\n",
        "# Let's say for the college majors with a starting median salary greater than \n",
        "# $50,000, we only want to select the mid-career median salary column.\n",
        "clean_df.loc[clean_df['Starting Median Salary'] > 50000, \n",
        "             'Mid-Career Median Salary']"
      ]
    },
    {
      "cell_type": "markdown",
      "metadata": {},
      "source": [
        "BONUS QUESTION - The average starting salary for STEM subjects?"
      ]
    },
    {
      "cell_type": "code",
      "execution_count": 40,
      "metadata": {},
      "outputs": [
        {
          "data": {
            "text/html": [
              "<div>\n",
              "<style scoped>\n",
              "    .dataframe tbody tr th:only-of-type {\n",
              "        vertical-align: middle;\n",
              "    }\n",
              "\n",
              "    .dataframe tbody tr th {\n",
              "        vertical-align: top;\n",
              "    }\n",
              "\n",
              "    .dataframe thead th {\n",
              "        text-align: right;\n",
              "    }\n",
              "</style>\n",
              "<table border=\"1\" class=\"dataframe\">\n",
              "  <thead>\n",
              "    <tr style=\"text-align: right;\">\n",
              "      <th></th>\n",
              "      <th>Undergraduate Major</th>\n",
              "      <th>Starting Median Salary</th>\n",
              "      <th>Mid-Career Median Salary</th>\n",
              "      <th>Mid-Career 10th Percentile Salary</th>\n",
              "      <th>Mid-Career 90th Percentile Salary</th>\n",
              "      <th>Group</th>\n",
              "    </tr>\n",
              "  </thead>\n",
              "  <tbody>\n",
              "    <tr>\n",
              "      <th>1</th>\n",
              "      <td>Aerospace Engineering</td>\n",
              "      <td>57700.0</td>\n",
              "      <td>101000.0</td>\n",
              "      <td>64300.0</td>\n",
              "      <td>161000.0</td>\n",
              "      <td>STEM</td>\n",
              "    </tr>\n",
              "    <tr>\n",
              "      <th>6</th>\n",
              "      <td>Biology</td>\n",
              "      <td>38800.0</td>\n",
              "      <td>64800.0</td>\n",
              "      <td>36900.0</td>\n",
              "      <td>135000.0</td>\n",
              "      <td>STEM</td>\n",
              "    </tr>\n",
              "    <tr>\n",
              "      <th>8</th>\n",
              "      <td>Chemical Engineering</td>\n",
              "      <td>63200.0</td>\n",
              "      <td>107000.0</td>\n",
              "      <td>71900.0</td>\n",
              "      <td>194000.0</td>\n",
              "      <td>STEM</td>\n",
              "    </tr>\n",
              "    <tr>\n",
              "      <th>9</th>\n",
              "      <td>Chemistry</td>\n",
              "      <td>42600.0</td>\n",
              "      <td>79900.0</td>\n",
              "      <td>45300.0</td>\n",
              "      <td>148000.0</td>\n",
              "      <td>STEM</td>\n",
              "    </tr>\n",
              "    <tr>\n",
              "      <th>10</th>\n",
              "      <td>Civil Engineering</td>\n",
              "      <td>53900.0</td>\n",
              "      <td>90500.0</td>\n",
              "      <td>63400.0</td>\n",
              "      <td>148000.0</td>\n",
              "      <td>STEM</td>\n",
              "    </tr>\n",
              "    <tr>\n",
              "      <th>12</th>\n",
              "      <td>Computer Engineering</td>\n",
              "      <td>61400.0</td>\n",
              "      <td>105000.0</td>\n",
              "      <td>66100.0</td>\n",
              "      <td>162000.0</td>\n",
              "      <td>STEM</td>\n",
              "    </tr>\n",
              "    <tr>\n",
              "      <th>13</th>\n",
              "      <td>Computer Science</td>\n",
              "      <td>55900.0</td>\n",
              "      <td>95500.0</td>\n",
              "      <td>56000.0</td>\n",
              "      <td>154000.0</td>\n",
              "      <td>STEM</td>\n",
              "    </tr>\n",
              "    <tr>\n",
              "      <th>19</th>\n",
              "      <td>Electrical Engineering</td>\n",
              "      <td>60900.0</td>\n",
              "      <td>103000.0</td>\n",
              "      <td>69300.0</td>\n",
              "      <td>168000.0</td>\n",
              "      <td>STEM</td>\n",
              "    </tr>\n",
              "    <tr>\n",
              "      <th>25</th>\n",
              "      <td>Geology</td>\n",
              "      <td>43500.0</td>\n",
              "      <td>79500.0</td>\n",
              "      <td>45000.0</td>\n",
              "      <td>156000.0</td>\n",
              "      <td>STEM</td>\n",
              "    </tr>\n",
              "    <tr>\n",
              "      <th>30</th>\n",
              "      <td>Industrial Engineering</td>\n",
              "      <td>57700.0</td>\n",
              "      <td>94700.0</td>\n",
              "      <td>57100.0</td>\n",
              "      <td>173000.0</td>\n",
              "      <td>STEM</td>\n",
              "    </tr>\n",
              "    <tr>\n",
              "      <th>31</th>\n",
              "      <td>Information Technology (IT)</td>\n",
              "      <td>49100.0</td>\n",
              "      <td>74800.0</td>\n",
              "      <td>44500.0</td>\n",
              "      <td>129000.0</td>\n",
              "      <td>STEM</td>\n",
              "    </tr>\n",
              "    <tr>\n",
              "      <th>35</th>\n",
              "      <td>Management Information Systems (MIS)</td>\n",
              "      <td>49200.0</td>\n",
              "      <td>82300.0</td>\n",
              "      <td>45300.0</td>\n",
              "      <td>146000.0</td>\n",
              "      <td>STEM</td>\n",
              "    </tr>\n",
              "    <tr>\n",
              "      <th>37</th>\n",
              "      <td>Math</td>\n",
              "      <td>45400.0</td>\n",
              "      <td>92400.0</td>\n",
              "      <td>45200.0</td>\n",
              "      <td>183000.0</td>\n",
              "      <td>STEM</td>\n",
              "    </tr>\n",
              "    <tr>\n",
              "      <th>38</th>\n",
              "      <td>Mechanical Engineering</td>\n",
              "      <td>57900.0</td>\n",
              "      <td>93600.0</td>\n",
              "      <td>63700.0</td>\n",
              "      <td>163000.0</td>\n",
              "      <td>STEM</td>\n",
              "    </tr>\n",
              "    <tr>\n",
              "      <th>43</th>\n",
              "      <td>Physician Assistant</td>\n",
              "      <td>74300.0</td>\n",
              "      <td>91700.0</td>\n",
              "      <td>66400.0</td>\n",
              "      <td>124000.0</td>\n",
              "      <td>STEM</td>\n",
              "    </tr>\n",
              "    <tr>\n",
              "      <th>44</th>\n",
              "      <td>Physics</td>\n",
              "      <td>50300.0</td>\n",
              "      <td>97300.0</td>\n",
              "      <td>56000.0</td>\n",
              "      <td>178000.0</td>\n",
              "      <td>STEM</td>\n",
              "    </tr>\n",
              "  </tbody>\n",
              "</table>\n",
              "</div>"
            ],
            "text/plain": [
              "                     Undergraduate Major  Starting Median Salary  \\\n",
              "1                  Aerospace Engineering                 57700.0   \n",
              "6                                Biology                 38800.0   \n",
              "8                   Chemical Engineering                 63200.0   \n",
              "9                              Chemistry                 42600.0   \n",
              "10                     Civil Engineering                 53900.0   \n",
              "12                  Computer Engineering                 61400.0   \n",
              "13                      Computer Science                 55900.0   \n",
              "19                Electrical Engineering                 60900.0   \n",
              "25                               Geology                 43500.0   \n",
              "30                Industrial Engineering                 57700.0   \n",
              "31           Information Technology (IT)                 49100.0   \n",
              "35  Management Information Systems (MIS)                 49200.0   \n",
              "37                                  Math                 45400.0   \n",
              "38                Mechanical Engineering                 57900.0   \n",
              "43                   Physician Assistant                 74300.0   \n",
              "44                               Physics                 50300.0   \n",
              "\n",
              "    Mid-Career Median Salary  Mid-Career 10th Percentile Salary  \\\n",
              "1                   101000.0                            64300.0   \n",
              "6                    64800.0                            36900.0   \n",
              "8                   107000.0                            71900.0   \n",
              "9                    79900.0                            45300.0   \n",
              "10                   90500.0                            63400.0   \n",
              "12                  105000.0                            66100.0   \n",
              "13                   95500.0                            56000.0   \n",
              "19                  103000.0                            69300.0   \n",
              "25                   79500.0                            45000.0   \n",
              "30                   94700.0                            57100.0   \n",
              "31                   74800.0                            44500.0   \n",
              "35                   82300.0                            45300.0   \n",
              "37                   92400.0                            45200.0   \n",
              "38                   93600.0                            63700.0   \n",
              "43                   91700.0                            66400.0   \n",
              "44                   97300.0                            56000.0   \n",
              "\n",
              "    Mid-Career 90th Percentile Salary Group  \n",
              "1                            161000.0  STEM  \n",
              "6                            135000.0  STEM  \n",
              "8                            194000.0  STEM  \n",
              "9                            148000.0  STEM  \n",
              "10                           148000.0  STEM  \n",
              "12                           162000.0  STEM  \n",
              "13                           154000.0  STEM  \n",
              "19                           168000.0  STEM  \n",
              "25                           156000.0  STEM  \n",
              "30                           173000.0  STEM  \n",
              "31                           129000.0  STEM  \n",
              "35                           146000.0  STEM  \n",
              "37                           183000.0  STEM  \n",
              "38                           163000.0  STEM  \n",
              "43                           124000.0  STEM  \n",
              "44                           178000.0  STEM  "
            ]
          },
          "execution_count": 40,
          "metadata": {},
          "output_type": "execute_result"
        }
      ],
      "source": [
        "# filter the dataframe to only include STEM subjects\n",
        "clean_df.loc[clean_df['Group'] == 'STEM']"
      ]
    },
    {
      "cell_type": "code",
      "execution_count": 41,
      "metadata": {},
      "outputs": [
        {
          "data": {
            "text/plain": [
              "53862.5"
            ]
          },
          "execution_count": 41,
          "metadata": {},
          "output_type": "execute_result"
        }
      ],
      "source": [
        "# select the starting median salary column\n",
        "# df.loc[ROWS, COLUMNS]\n",
        "stem_start = clean_df.loc[clean_df['Group'] == 'STEM', 'Starting Median Salary']\n",
        "\n",
        "# calculate the average starting salary for STEM subjects\n",
        "stem_start.mean()"
      ]
    },
    {
      "cell_type": "code",
      "execution_count": 42,
      "metadata": {},
      "outputs": [
        {
          "data": {
            "text/plain": [
              "53862.5"
            ]
          },
          "execution_count": 42,
          "metadata": {},
          "output_type": "execute_result"
        }
      ],
      "source": [
        "# We can also combine the above steps into one line of code\n",
        "clean_df.loc[clean_df['Group'] == 'STEM', 'Starting Median Salary'].mean()"
      ]
    },
    {
      "cell_type": "code",
      "execution_count": 43,
      "metadata": {},
      "outputs": [
        {
          "name": "stdout",
          "output_type": "stream",
          "text": [
            "STEM:  53862.5\n",
            "HASS:  37186.36363636364\n",
            "Business:  44633.333333333336\n"
          ]
        }
      ],
      "source": [
        "# Let's do this for all the subject groups\n",
        "# This allows us to compare the average starting salary for each subject group.\n",
        "# Which subject group gives you the best career prospects?\n",
        "print(\"STEM: \", clean_df.loc[clean_df[\"Group\"] == \"STEM\", \n",
        "                             'Starting Median Salary'].mean())\n",
        "print(\"HASS: \", clean_df.loc[clean_df[\"Group\"] == \"HASS\", \n",
        "                             'Starting Median Salary'].mean())\n",
        "print(\"Business: \", clean_df.loc[clean_df[\"Group\"] == \"Business\", \n",
        "                                 'Starting Median Salary'].mean())"
      ]
    },
    {
      "cell_type": "markdown",
      "metadata": {},
      "source": [
        "#### 3. Plotting\n",
        "As we have completed some preliminary exploratory data analysis and gained insights by filtering and performing calculations on the data (such as mean salary), our next step is to visualise it. The primary goal of plotting is to provide a quick and easy-to-understand overview of the primary findings in our data without the need for a closer inspection of the data. Always ask yourself what you are trying to tell through your visualisations.\n",
        "\n",
        "There are several types of charts and graphs available for us to use, such as:\n",
        "- Histogram\n",
        "- Box plot\n",
        "- Pie chart\n",
        "- Bar plot\n",
        "- Scatter plot\n",
        "- Line plot"
      ]
    },
    {
      "cell_type": "markdown",
      "metadata": {},
      "source": [
        "#### Histogram of Salaries\n",
        "\n",
        "Histograms are great for visualising the distribution of a single variable within a dataset. A distribution shows how frequently different values occur. For instance, a distribution of heights in a population would show you the range of heights and how tall most people are. Histograms can be used to compare distributions between different groups, such as the difference in height between men and women.\n",
        "We plot histograms to see the distribution of starting and mid-career median salaries.\n",
        "\n",
        "Here we use a histogram to compare the distribution of starting and mid-career median salaries."
      ]
    },
    {
      "cell_type": "code",
      "execution_count": 44,
      "metadata": {},
      "outputs": [
        {
          "data": {
            "text/plain": [
              "(array([16., 12.,  6.,  4.,  3.,  5.,  2.,  1.,  0.,  1.]),\n",
              " array([34000., 38030., 42060., 46090., 50120., 54150., 58180., 62210.,\n",
              "        66240., 70270., 74300.]),\n",
              " <BarContainer object of 10 artists>)"
            ]
          },
          "execution_count": 44,
          "metadata": {},
          "output_type": "execute_result"
        },
        {
          "data": {
            "image/png": "[encoded data removed]",
            "text/plain": [
              "<Figure size 640x480 with 1 Axes>"
            ]
          },
          "metadata": {},
          "output_type": "display_data"
        }
      ],
      "source": [
        "# Remember that we imported matplotlib as plt at the beginning of the notebook \n",
        "plt.hist(clean_df['Starting Median Salary'])"
      ]
    },
    {
      "cell_type": "code",
      "execution_count": 45,
      "metadata": {},
      "outputs": [
        {
          "data": {
            "text/plain": [
              "(array([8., 7., 6., 5., 4., 6., 2., 6., 3., 3.]),\n",
              " array([ 52000.,  57500.,  63000.,  68500.,  74000.,  79500.,  85000.,\n",
              "         90500.,  96000., 101500., 107000.]),\n",
              " <BarContainer object of 10 artists>)"
            ]
          },
          "execution_count": 45,
          "metadata": {},
          "output_type": "execute_result"
        },
        {
          "data": {
            "image/png": "[encoded data removed]",
            "text/plain": [
              "<Figure size 640x480 with 1 Axes>"
            ]
          },
          "metadata": {},
          "output_type": "display_data"
        }
      ],
      "source": [
        "# Now try the same for the mid-career salaries\n",
        "plt.hist(clean_df['Mid-Career Median Salary'])"
      ]
    },
    {
      "cell_type": "code",
      "execution_count": 46,
      "metadata": {},
      "outputs": [
        {
          "data": {
            "image/png": "[encoded data removed]",
            "text/plain": [
              "<Figure size 1200x600 with 1 Axes>"
            ]
          },
          "metadata": {},
          "output_type": "display_data"
        }
      ],
      "source": [
        "# What is still missing from the plot?\n",
        "\n",
        "# - We need to add labels to the x and y axis\n",
        "# - We also need to add a title to the plot\n",
        "# - We want plot starting median salary and mid career median salary\n",
        "#   on the same plot so that we can compare them\n",
        "# - We want to add a legend to the plot so that we can tell which plot is which\n",
        "\n",
        "# We use seaborn for this, because it is easier to plot multiple histograms\n",
        "# Remember that we imported seaborn as sns at the beginning of the notebook \n",
        "\n",
        "# This makes the plot bigger\n",
        "plt.figure(figsize=(12, 6))\n",
        "\n",
        "# This makes the plot look nicer\n",
        "sns.set_style('whitegrid')\n",
        "\n",
        "# This plots the histogram for the starting median salary\n",
        "sns.histplot(\n",
        "    data=clean_df, \n",
        "    x='Starting Median Salary', \n",
        "    color='blue', \n",
        "    alpha=0.4,  # This makes the plot slightly transparent \n",
        "    label='Starting Median Salary'\n",
        ")\n",
        "\n",
        "# This plots the histogram for the mid career median salary\n",
        "sns.histplot(\n",
        "    data=clean_df, \n",
        "    x='Mid-Career Median Salary', \n",
        "    color='green', \n",
        "    alpha=0.4,\n",
        "    label='Mid-Career Median Salary'\n",
        ")\n",
        "\n",
        "plt.title('Distribution of Starting vs. Mid-Career Median Salaries')\n",
        "plt.xlabel('Salary ($)')  # This labels the x-axis\n",
        "plt.ylabel('Number of Majors')  # This labels the y-axis\n",
        "plt.legend()  # This adds a legend to the plot\n",
        "plt.show()"
      ]
    }
  ],
  "metadata": {
    "colab": {
      "provenance": []
    },
    "kernelspec": {
      "display_name": "Python 3",
      "name": "python3"
    },
    "language_info": {
      "codemirror_mode": {
        "name": "ipython",
        "version": 3
      },
      "file_extension": ".py",
      "mimetype": "text/x-python",
      "name": "python",
      "nbconvert_exporter": "python",
      "pygments_lexer": "ipython3",
      "version": "3.9.6"
    }
  },
  "nbformat": 4,
  "nbformat_minor": 0
}
