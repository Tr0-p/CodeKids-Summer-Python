{
 "cells": [
  {
   "cell_type": "markdown",
   "metadata": {},
   "source": [
    "# PYTHON 2 - LESSON 1\n",
    "## Introduction and Recap\n",
    "\n",
    "Date: 23 April 2024\n",
    "\n",
    "#### Summary\n",
    "Today we did a little review of the Python basics. We talked about:\n",
    "\n",
    "1. Setting up Google Colab\n",
    "2. Commenting Code\n",
    "3. Printing Information\n",
    "4. User Input\n",
    "5. Variables\n",
    "6. Data Types\n",
    "7. Conditionals (IF/ELIF/ELSE)\n",
    "8. Loops (FOR/WHILE)\n",
    "\n",
    "9. Home Exercise (optional)\n",
    "\n",
    "#### 1. Setting up Google Colab\n",
    "We are using `Google Colab`, an online Python environment. It uses Notebooks, where you can split your code into chunks of code (cells). You can run these cells individually, and see the output right below the cell. This makes it easy to test and organise your code. You can also add text cells (like this one) to add longer explanations and comments to your code.\n",
    "\n",
    "To get started, open Google Colab (https://colab.research.google.com) and sign in with your Google account.\n",
    "To open a new notebook go to the top left corner and press: `File > New notebook`.\n",
    "\n",
    "All your notebooks are saved to a folder named `Colab Notebooks` in your Google Drive."
   ]
  },
  {
   "cell_type": "markdown",
   "metadata": {},
   "source": [
    "#### 2. Commenting Code"
   ]
  },
  {
   "cell_type": "code",
   "execution_count": 22,
   "metadata": {},
   "outputs": [],
   "source": [
    "# Comments always start with a (#) symbol. They don't really do anything.\n",
    "# They are just notes so you and others can understand what the code is doing."
   ]
  },
  {
   "cell_type": "markdown",
   "metadata": {},
   "source": [
    "#### 3. Printing Information"
   ]
  },
  {
   "cell_type": "code",
   "execution_count": 23,
   "metadata": {},
   "outputs": [
    {
     "name": "stdout",
     "output_type": "stream",
     "text": [
      "Hello and welcome to Python2!\n"
     ]
    }
   ],
   "source": [
    "# How do we display information with Python?\n",
    "print(\"Hello and welcome to Python2!\")"
   ]
  },
  {
   "cell_type": "markdown",
   "metadata": {},
   "source": [
    "#### 4. User Input"
   ]
  },
  {
   "cell_type": "code",
   "execution_count": 24,
   "metadata": {},
   "outputs": [
    {
     "data": {
      "text/plain": [
       "'Magdalena'"
      ]
     },
     "execution_count": 24,
     "metadata": {},
     "output_type": "execute_result"
    }
   ],
   "source": [
    "# How can Python ask for information from the user (YOU)?\n",
    "input(\"What is your name? \")"
   ]
  },
  {
   "cell_type": "markdown",
   "metadata": {},
   "source": [
    "#### 5. Variables"
   ]
  },
  {
   "cell_type": "code",
   "execution_count": 25,
   "metadata": {},
   "outputs": [
    {
     "name": "stdout",
     "output_type": "stream",
     "text": [
      "Magdalena\n"
     ]
    }
   ],
   "source": [
    "# Any information has to be stored. How do we store information?\n",
    "\n",
    "# We store information in... VARIABLES.\n",
    "# Variables are like boxes that store information.\n",
    "# The name is like a label for the box. The value is what's inside the box.\n",
    "name = input(\"What is your name? \")\n",
    "\n",
    "# How do we show what's stored in a variable?\n",
    "print(name)"
   ]
  },
  {
   "cell_type": "code",
   "execution_count": 26,
   "metadata": {},
   "outputs": [
    {
     "name": "stdout",
     "output_type": "stream",
     "text": [
      "Nav\n"
     ]
    }
   ],
   "source": [
    "# The value can be changed, but the name cannot be changed. \n",
    "# We can overwrite the contents of the box with new information.\n",
    "name = input(\"What is your teacher's name? \")\n",
    "\n",
    "print(name)"
   ]
  },
  {
   "cell_type": "markdown",
   "metadata": {},
   "source": [
    "#### 6. Data Types"
   ]
  },
  {
   "cell_type": "code",
   "execution_count": 27,
   "metadata": {},
   "outputs": [
    {
     "ename": "TypeError",
     "evalue": "can only concatenate str (not \"int\") to str",
     "output_type": "error",
     "traceback": [
      "\u001b[0;31m---------------------------------------------------------------------------\u001b[0m",
      "\u001b[0;31mTypeError\u001b[0m                                 Traceback (most recent call last)",
      "Cell \u001b[0;32mIn[27], line 4\u001b[0m\n\u001b[1;32m      1\u001b[0m \u001b[38;5;66;03m# Ask for the age of a person and do some math with it.\u001b[39;00m\n\u001b[1;32m      2\u001b[0m age \u001b[38;5;241m=\u001b[39m \u001b[38;5;28minput\u001b[39m(\u001b[38;5;124m\"\u001b[39m\u001b[38;5;124mWhat is your age? \u001b[39m\u001b[38;5;124m\"\u001b[39m)\n\u001b[0;32m----> 4\u001b[0m \u001b[38;5;28mprint\u001b[39m(\u001b[43mage\u001b[49m\u001b[43m \u001b[49m\u001b[38;5;241;43m+\u001b[39;49m\u001b[43m \u001b[49m\u001b[38;5;241;43m10\u001b[39;49m)\n",
      "\u001b[0;31mTypeError\u001b[0m: can only concatenate str (not \"int\") to str"
     ]
    }
   ],
   "source": [
    "# Ask for the age of a person and do some math with it.\n",
    "age = input(\"What is your age? \")\n",
    "\n",
    "print(age + 10)"
   ]
  },
  {
   "cell_type": "code",
   "execution_count": 28,
   "metadata": {},
   "outputs": [
    {
     "name": "stdout",
     "output_type": "stream",
     "text": [
      "39\n"
     ]
    }
   ],
   "source": [
    "# What happened? The above code will give an error. Why?\n",
    "\n",
    "# In Python there are different types of information (data types).\n",
    "# For example, text is a different type of information than a number.\n",
    "\n",
    "# Python treats all input as text (also called a String). \n",
    "# We can't do maths with text. We have to convert it to a number first.\n",
    "# Whole numbers (e.g. 1, 2, 3) in Python are called integers.\n",
    "age = int(input(\"What is your age? \"))\n",
    "\n",
    "# Now we can do maths with this variable\n",
    "print(age + 10)"
   ]
  },
  {
   "cell_type": "markdown",
   "metadata": {},
   "source": [
    "#### 7. Conditionals (IF/ELIF/ELSE)"
   ]
  },
  {
   "cell_type": "code",
   "execution_count": 29,
   "metadata": {},
   "outputs": [
    {
     "name": "stdout",
     "output_type": "stream",
     "text": [
      "You are cool!\n"
     ]
    }
   ],
   "source": [
    "# How does Python make decisions based on some information (a condition)?\n",
    "# We use IF/ELIF/ELSE statements.\n",
    "name = input(\"What is your name? \")\n",
    "\n",
    "if name == \"Magdalena\":\n",
    "    print(\"You are cool!\")\n",
    "else:\n",
    "    print(\"Not cool...\")"
   ]
  },
  {
   "cell_type": "code",
   "execution_count": 30,
   "metadata": {},
   "outputs": [
    {
     "name": "stdout",
     "output_type": "stream",
     "text": [
      "29\n",
      "Sorry, you are too old for Code Kids!\n"
     ]
    }
   ],
   "source": [
    "# How can you print different messages based on the age of the user?\n",
    "\n",
    "# == means equal to, != means not equal to\n",
    "# < means less than, > means greater than, \n",
    "# <= means less than or equal to, >= means greater than or equal to\n",
    "\n",
    "# Age < 8: \"Maybe Python1 would be better for you?\"\n",
    "# Age 8-16: \"Welcome to Python2!\"\n",
    "# Age > 16: \"Sorry, you are too old for Code Kids!\"\n",
    "age = int(input(\"What is your age? \"))\n",
    "print(age)\n",
    "\n",
    "if age < 8:\n",
    "    print(\"Maybe Python1 would be better for you?\")\n",
    "elif age >= 8 and age <= 16:\n",
    "    print(\"Welcome to Python2!\")\n",
    "else:\n",
    "    print(\"Sorry, you are too old for Code Kids!\")"
   ]
  },
  {
   "cell_type": "markdown",
   "metadata": {},
   "source": [
    "#### 8. Loops (FOR/WHILE)"
   ]
  },
  {
   "cell_type": "code",
   "execution_count": 31,
   "metadata": {},
   "outputs": [],
   "source": [
    "# What are the 2 main loops in Python?\n",
    "# FOR loop and WHILE\n",
    "\n",
    "# Use a FOR loop when want to repeat something a certain number of times.\n",
    "# Use WHILE when you want to repeat something as long as a condition is true.\n",
    "\n",
    "# For example, keep playing a game until the player runs out of lives."
   ]
  },
  {
   "cell_type": "code",
   "execution_count": 32,
   "metadata": {},
   "outputs": [
    {
     "name": "stdout",
     "output_type": "stream",
     "text": [
      "I'm looping\n",
      "I'm looping\n",
      "I'm looping\n",
      "I'm looping\n",
      "I'm looping\n",
      "I'm looping\n",
      "I'm looping\n",
      "I'm looping\n",
      "I'm looping\n",
      "I'm looping\n"
     ]
    }
   ],
   "source": [
    "# FOR loop\n",
    "for i in range(0, 10):\n",
    "    print(\"I'm looping\")"
   ]
  },
  {
   "cell_type": "code",
   "execution_count": 33,
   "metadata": {},
   "outputs": [
    {
     "name": "stdout",
     "output_type": "stream",
     "text": [
      "0\n",
      "1\n",
      "2\n",
      "3\n",
      "4\n",
      "5\n",
      "6\n",
      "7\n",
      "8\n",
      "9\n"
     ]
    }
   ],
   "source": [
    "# COUNTER: The i is a counter for how many times loop is running\n",
    "# i can be anything, it's just a name for the counter\n",
    "for i in range(0, 10):\n",
    "    print(i)"
   ]
  },
  {
   "cell_type": "code",
   "execution_count": 34,
   "metadata": {},
   "outputs": [
    {
     "name": "stdout",
     "output_type": "stream",
     "text": [
      "0\n",
      "1\n",
      "2\n",
      "3\n",
      "4\n",
      "5\n",
      "6\n",
      "7\n",
      "8\n",
      "9\n"
     ]
    }
   ],
   "source": [
    "# RANGE: The range is the number of times the loop will run\n",
    "# The loop will run 10 times, starting at 0 and going up to 9\n",
    "for i in range(10):\n",
    "    print(i)"
   ]
  },
  {
   "cell_type": "code",
   "execution_count": 35,
   "metadata": {},
   "outputs": [
    {
     "name": "stdout",
     "output_type": "stream",
     "text": [
      "You are still alive!\n",
      "You are still alive!\n",
      "You are still alive!\n",
      "Game over!\n"
     ]
    }
   ],
   "source": [
    "# WHILE loop\n",
    "hearts = 3\n",
    "while hearts > 0:\n",
    "    print(\"You are still alive!\")\n",
    "    hearts = hearts - 1\n",
    "print(\"Game over!\")"
   ]
  },
  {
   "cell_type": "markdown",
   "metadata": {},
   "source": [
    "#### 9. Home Exercise (optional)"
   ]
  },
  {
   "cell_type": "code",
   "execution_count": 36,
   "metadata": {},
   "outputs": [],
   "source": [
    "# Challenge: Can you make a count down timer with a blast off?!\n",
    "\n",
    "# TIP: \n",
    "# Let's say we have range(0, 10).\n",
    "# It means we start at 0 and stop at 9, counting in steps of +1.\n",
    "# We can also do range(0, 10, 2) to count in steps of +2.\n",
    "\n",
    "# How could you use range(STOP, START, STEP) to count down from 10 to 0?"
   ]
  }
 ],
 "metadata": {
  "kernelspec": {
   "display_name": "Python 3 (ipykernel)",
   "language": "python",
   "name": "python3"
  },
  "language_info": {
   "codemirror_mode": {
    "name": "ipython",
    "version": 3
   },
   "file_extension": ".py",
   "mimetype": "text/x-python",
   "name": "python",
   "nbconvert_exporter": "python",
   "pygments_lexer": "ipython3",
   "version": "3.9.6"
  }
 },
 "nbformat": 4,
 "nbformat_minor": 4
}
