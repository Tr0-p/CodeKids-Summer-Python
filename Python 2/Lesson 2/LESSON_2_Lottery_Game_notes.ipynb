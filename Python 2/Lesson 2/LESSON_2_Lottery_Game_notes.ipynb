{
 "cells": [
  {
   "cell_type": "markdown",
   "metadata": {},
   "source": [
    "# PYTHON 2 - LESSON 2\n",
    "## Recap 2 (Lottery Game)\n",
    "\n",
    "Date: 30 April 2024\n",
    "\n",
    "#### Summary\n",
    "Today we finished with the review of the Python basics. We talked about:\n",
    "\n",
    "1. Conditionals (IF/ELIF/ELSE)\n",
    "2. Solution to Home Exercise (FOR Loops)\n",
    "3. WHILE Loops\n",
    "4. String Formatting\n",
    "5. Programming a Lottery Game"
   ]
  },
  {
   "cell_type": "markdown",
   "metadata": {},
   "source": [
    "#### 1. Conditionals (IF/ELIF/ELSE)"
   ]
  },
  {
   "cell_type": "code",
   "execution_count": 12,
   "metadata": {},
   "outputs": [
    {
     "name": "stdout",
     "output_type": "stream",
     "text": [
      "29\n",
      "Sorry, you are too old for Code Kids!\n"
     ]
    }
   ],
   "source": [
    "# How can you print different messages based on the age of the user?\n",
    "age = int(input(\"What is your age? \"))\n",
    "print(age)\n",
    "\n",
    "if age < 8:\n",
    "    print(\"Maybe Python1 would be better for you?\")\n",
    "elif age >= 8 and age <= 16:\n",
    "    print(\"Welcome to Python2!\")\n",
    "else:\n",
    "    print(\"Sorry, you are too old for Code Kids!\")\n",
    "\n",
    "# == means equal to\n",
    "# != means not equal to\n",
    "# < means less than\n",
    "# > means greater than\n",
    "# <= means less than or equal to\n",
    "# >= means greater than or equal to\n",
    "\n",
    "# age >= 8 and age <= 16 includes 8, 9, 10, 11, 12, 13, 14, 15, 16\n",
    "# age > 8 and age < 16 only includes 9, 10, 11, 12, 13, 14, 15"
   ]
  },
  {
   "cell_type": "markdown",
   "metadata": {},
   "source": [
    "#### 2. Solution to Home Exercise (FOR Loops)"
   ]
  },
  {
   "cell_type": "code",
   "execution_count": 13,
   "metadata": {},
   "outputs": [
    {
     "name": "stdout",
     "output_type": "stream",
     "text": [
      "10\n",
      "9\n",
      "8\n",
      "7\n",
      "6\n",
      "5\n",
      "4\n",
      "3\n",
      "2\n",
      "1\n",
      "0\n",
      "Boom!\n"
     ]
    }
   ],
   "source": [
    "# Challenge: Can you make a count down timer which prints a message at the end?\n",
    "\n",
    "# TIP: \n",
    "# Let's say we have range(0, 10).\n",
    "# It means we start at 0 and stop at 9, counting in steps of +1.\n",
    "# We can also do range(0, 10, 2) to count in steps of +2.\n",
    "\n",
    "# How could you use range(START, STOP, STEP) to count down from 10 to 0?\n",
    "\n",
    "# START will be 10, STOP is -1, and STEP is -1.\n",
    "# STOP has to be -1, because the range function stops one number before STOP\n",
    "# If we put 0, our countdown will stop at 1.\n",
    "\n",
    "# Import time is a library that allows us to use the sleep function.\n",
    "import time\n",
    "\n",
    "for i in range(10, -1, -1):\n",
    "    print(i)\n",
    "    # The sleep function pauses the program for a specified number of seconds.\n",
    "    time.sleep(1)\n",
    "print(\"Boom!\")"
   ]
  },
  {
   "cell_type": "markdown",
   "metadata": {},
   "source": [
    "#### 3. WHILE Loops"
   ]
  },
  {
   "cell_type": "code",
   "execution_count": 14,
   "metadata": {},
   "outputs": [
    {
     "name": "stdout",
     "output_type": "stream",
     "text": [
      "You have 4 hearts left\n",
      "You have 3 hearts left\n",
      "You have 2 hearts left\n",
      "You have 1 hearts left\n",
      "You have 0 hearts left\n",
      "Game Over\n"
     ]
    }
   ],
   "source": [
    "# The while loop runs WHILE a condition is true\n",
    "# For example: A loop that keeps track of a player's lives in a game\n",
    "# Once the player has no lives left, the game is over.\n",
    "hearts = 5\n",
    "while hearts > 0:\n",
    "    hearts -= 1\n",
    "    print(\"You have \" + str(hearts) + \" hearts left\")\n",
    "print(\"Game Over\")"
   ]
  },
  {
   "cell_type": "markdown",
   "metadata": {},
   "source": [
    "#### 4. String Formatting"
   ]
  },
  {
   "cell_type": "code",
   "execution_count": 15,
   "metadata": {},
   "outputs": [
    {
     "name": "stdout",
     "output_type": "stream",
     "text": [
      "You have 0 hearts left\n",
      "You have 0 hearts left\n",
      "You have 1 hearts left\n"
     ]
    }
   ],
   "source": [
    "print(\"You have \" + str(hearts) + \" hearts left\")\n",
    "# + adds two strings together, numbers must be converted to strings first\n",
    "print(\"You have {} hearts left\".format(hearts))\n",
    "# {} is a placeholder that will be replaced with the value of hearts\n",
    "print(f\"You have {hearts + 1} hearts left\")\n",
    "# f-string is a different way to format strings, it is easier to read and write"
   ]
  },
  {
   "cell_type": "markdown",
   "metadata": {},
   "source": [
    "#### 5. Programming a Lottery Game\n"
   ]
  },
  {
   "cell_type": "code",
   "execution_count": 16,
   "metadata": {},
   "outputs": [
    {
     "name": "stdout",
     "output_type": "stream",
     "text": [
      "Your numbers: [4, 8, 5, 3, 2]\n",
      "Computer's numbers: [7, 6, 6, 2, 6]\n",
      "You matched 1 numbers\n"
     ]
    }
   ],
   "source": [
    "# Let's make a simple number guessing game\n",
    "# We let the user pick 5 numbers between 1 and 10 (or more if you want)\n",
    "# Then the computer will pick 5 random numbers\n",
    "# We will compare the user's numbers to the computer's numbers\n",
    "# And tell the user how many numbers they matched\n",
    "\n",
    "# We need the random library to generate random numbers\n",
    "import random\n",
    "\n",
    "# USER NUMBERS\n",
    "\n",
    "# Ask the user for 5 numbers and store them in a list\n",
    "user_numbers = []\n",
    "for i in range(5):\n",
    "\n",
    "    # For the first iteration of the loop, it will display \"Number 1 of 5: \",\n",
    "    # For the second iteration \"Number 2 of 5: \", and so on.\n",
    "    number = int(input(f\"Enter 5 numbers between 1 and 10. Number {i+1} / 5: \"))\n",
    "    user_numbers.append(number)  # Add the user's numbers to the list\n",
    "\n",
    "# COMPUTER NUMBERS\n",
    "\n",
    "# Let the computer pick 5 random numbers and store them in a list\n",
    "random_numbers = []\n",
    "for i in range(5):\n",
    "    # Generate a random number between 1 and 10\n",
    "    rand_number = random.randint(1, 10)\n",
    "    random_numbers.append(rand_number)  # Add the computer's numbers to the list\n",
    "\n",
    "# Display user's and computer's numbers\n",
    "print(\"Your numbers:\", user_numbers)\n",
    "print(\"Computer's numbers:\", random_numbers)\n",
    "\n",
    "# COUNT MATCHES\n",
    "\n",
    "matches = 0\n",
    "# Check how many numbers match\n",
    "for number in user_numbers:\n",
    "    if number in random_numbers:\n",
    "        matches += 1\n",
    "        \n",
    "print(f\"You matched {matches} numbers\")"
   ]
  }
 ],
 "metadata": {
  "kernelspec": {
   "display_name": ".venv",
   "language": "python",
   "name": "python3"
  },
  "language_info": {
   "codemirror_mode": {
    "name": "ipython",
    "version": 3
   },
   "file_extension": ".py",
   "mimetype": "text/x-python",
   "name": "python",
   "nbconvert_exporter": "python",
   "pygments_lexer": "ipython3",
   "version": "3.9.6"
  }
 },
 "nbformat": 4,
 "nbformat_minor": 2
}
